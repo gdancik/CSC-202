{
 "cells": [
  {
   "cell_type": "markdown",
   "id": "93695aba",
   "metadata": {
    "deletable": false,
    "editable": false
   },
   "source": [
    "# Reading CIFAR images\n",
    "\n",
    "Download the CIFAR-10 or CIFAR-100 Python images from:\n",
    "http://www.cs.toronto.edu/~kriz/cifar.html\n",
    "\n",
    "Note that these are low resolution images, though the images should still be recognizable."
   ]
  },
  {
   "cell_type": "markdown",
   "id": "eaf43c9b",
   "metadata": {
    "deletable": false,
    "editable": false
   },
   "source": [
    "Extract the image files, which are stored in batches. The code below demonstrates how to read in a batch, and assumes that this Notebook is in the same directory as the image files. \n",
    "\n",
    "First, we define a function for reading in the data."
   ]
  },
  {
   "cell_type": "code",
   "execution_count": null,
   "id": "d231ddee",
   "metadata": {
    "deletable": false,
    "editable": false
   },
   "outputs": [],
   "source": [
    "def unpickle(file):\n",
    "    import pickle\n",
    "    with open(file, 'rb') as fo:\n",
    "        dict = pickle.load(fo, encoding='latin-1')\n",
    "    return dict"
   ]
  },
  {
   "cell_type": "markdown",
   "id": "a7b246bb",
   "metadata": {
    "deletable": false,
    "editable": false
   },
   "source": [
    "Read in the first batch; note that batch information is stored as a dictionary:"
   ]
  },
  {
   "cell_type": "code",
   "execution_count": null,
   "id": "89a89f51",
   "metadata": {
    "deletable": false,
    "editable": false
   },
   "outputs": [],
   "source": [
    "b1 = unpickle('data_batch_1')\n",
    "b1.keys()"
   ]
  },
  {
   "cell_type": "code",
   "execution_count": null,
   "id": "483d10c6",
   "metadata": {
    "deletable": false,
    "editable": false
   },
   "outputs": [],
   "source": [
    "b1['data'].shape"
   ]
  },
  {
   "cell_type": "markdown",
   "id": "0096a1c8",
   "metadata": {
    "deletable": false,
    "editable": false
   },
   "source": [
    "### Image structure\n",
    "\n",
    "The data is already *flattened*, which is appropriate for use in machine learning methods, although the data should also be scaled. \n",
    "\n",
    "The data for each sample represents a color image that is 32 x 32 pixels. The total number of values stored is 3x32x32 = 3072, because 3 *channels* are stored (for red, green, and blue). To display the image, we need to reformat the data. The *imshow* method requires that color images be stored in ndimensional arrays with the last dimension corresponding to the color channel. For this dataset, we also need to rotate the image.\n",
    "\n",
    "First, select an image index."
   ]
  },
  {
   "cell_type": "code",
   "execution_count": null,
   "id": "5bb7a125",
   "metadata": {},
   "outputs": [],
   "source": [
    "image_index = 4"
   ]
  },
  {
   "cell_type": "markdown",
   "id": "09e9cdc6",
   "metadata": {
    "deletable": false,
    "editable": false
   },
   "source": [
    "Extract the image and format it for visualization"
   ]
  },
  {
   "cell_type": "code",
   "execution_count": null,
   "id": "40450ba8",
   "metadata": {
    "deletable": false,
    "editable": false
   },
   "outputs": [],
   "source": [
    "import numpy as np\n",
    "img = b1['data'][image_index]\n",
    "img = img.reshape(3,32,32)\n",
    "img.shape\n",
    "img = img.transpose()\n",
    "img = np.rot90(img,3)\n",
    "img.shape"
   ]
  },
  {
   "cell_type": "code",
   "execution_count": null,
   "id": "3f0778f9",
   "metadata": {
    "deletable": false,
    "editable": false
   },
   "outputs": [],
   "source": [
    "import matplotlib.pyplot as plt\n",
    "fig = plt.figure()\n",
    "fig.set_size_inches(1,1)\n",
    "plt.imshow(img)\n",
    "plt.axis('off')\n",
    "None"
   ]
  },
  {
   "cell_type": "markdown",
   "id": "ea7eb55c",
   "metadata": {
    "deletable": false,
    "editable": false
   },
   "source": [
    "### This is the target value of the selected image"
   ]
  },
  {
   "cell_type": "code",
   "execution_count": null,
   "id": "e0910882",
   "metadata": {
    "deletable": false,
    "editable": false
   },
   "outputs": [],
   "source": [
    "b1['labels'][image_index]"
   ]
  },
  {
   "cell_type": "markdown",
   "id": "00696dc3",
   "metadata": {
    "deletable": false,
    "editable": false
   },
   "source": [
    "### The *meta* data tell us the names corresponding to the target values"
   ]
  },
  {
   "cell_type": "code",
   "execution_count": null,
   "id": "a43babaf",
   "metadata": {
    "deletable": false,
    "editable": false
   },
   "outputs": [],
   "source": [
    "meta = unpickle('batches.meta')"
   ]
  },
  {
   "cell_type": "code",
   "execution_count": null,
   "id": "88d4f95f",
   "metadata": {
    "deletable": false,
    "editable": false
   },
   "outputs": [],
   "source": [
    "meta.keys()"
   ]
  },
  {
   "cell_type": "code",
   "execution_count": null,
   "id": "7c885afc",
   "metadata": {
    "deletable": false,
    "editable": false
   },
   "outputs": [],
   "source": [
    "meta['label_names']"
   ]
  },
  {
   "cell_type": "markdown",
   "id": "7ea10154",
   "metadata": {
    "deletable": false,
    "editable": false
   },
   "source": [
    "### Combining multi-dimensional numpy arrays\n",
    "\n",
    "Multi-dimensional numpy arrays can be combined by using *np.vstack* on a list of *numpy* arrays. The code below creates a new dataset containing two copies of the feature data for the first batch (in practice, you would combine the first batch with the second batch, etc). Note "
   ]
  },
  {
   "cell_type": "code",
   "execution_count": null,
   "id": "6ff29d80",
   "metadata": {
    "deletable": false,
    "editable": false
   },
   "outputs": [],
   "source": [
    "import numpy as np\n",
    "x1= b1['data']\n",
    "print('shape of x1 =', x1.shape)\n",
    "x2 = b1['data'] # in practice, read from second batch, etc\n",
    "x_combined = np.vstack([x1,x2])\n",
    "print('shape of combined data =', x_combined.shape)"
   ]
  },
  {
   "cell_type": "code",
   "execution_count": null,
   "id": "d07d69bf",
   "metadata": {},
   "outputs": [],
   "source": []
  }
 ],
 "metadata": {
  "kernelspec": {
   "display_name": "Python 3 (ipykernel)",
   "language": "python",
   "name": "python3"
  },
  "language_info": {
   "codemirror_mode": {
    "name": "ipython",
    "version": 3
   },
   "file_extension": ".py",
   "mimetype": "text/x-python",
   "name": "python",
   "nbconvert_exporter": "python",
   "pygments_lexer": "ipython3",
   "version": "3.9.7"
  }
 },
 "nbformat": 4,
 "nbformat_minor": 5
}
