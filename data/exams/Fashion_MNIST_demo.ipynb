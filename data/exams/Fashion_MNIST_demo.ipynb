{
 "cells": [
  {
   "cell_type": "markdown",
   "id": "a8302d26",
   "metadata": {
    "deletable": false,
    "editable": false
   },
   "source": [
    "# Reading in the Fashion-MNIST dataset\n",
    "\n",
    "The Fashion-MNIST dataset contains 70,000 images for 10 classes of \"fashion\" items (t-shirt, dress, sneakers, etc): https://github.com/zalandoresearch/fashion-mnist\n",
    "\n",
    "Complete the following steps to load in the images\n",
    "\n",
    "1. Download and extract the files from https://github.com/zalandoresearch/fashion-mnist/archive/refs/heads/master.zip\n",
    "\n",
    "2. Move this Jupyter Notebook to the *fashion-mnist-master* folder. \n",
    "\n",
    "3. Follow the Usage instructions under Loading with Python (https://github.com/zalandoresearch/fashion-mnist#loading-data-with-python-requires-numpy) but change the import statement to the following:\n",
    "\n",
    "```python\n",
    "import utils.mnist_reader as mnist_reader\n",
    "```\n",
    "\n",
    "\n",
    "The code below reads in the images."
   ]
  },
  {
   "cell_type": "code",
   "execution_count": 12,
   "id": "44e83e26",
   "metadata": {
    "deletable": false,
    "editable": false
   },
   "outputs": [],
   "source": [
    "import utils.mnist_reader as mnist_reader\n",
    "X_train, y_train = mnist_reader.load_mnist('data/fashion', kind='train')\n",
    "X_test, y_test = mnist_reader.load_mnist('data/fashion', kind='t10k')"
   ]
  },
  {
   "cell_type": "markdown",
   "id": "0543b8ef",
   "metadata": {
    "deletable": false,
    "editable": false
   },
   "source": [
    "### Display an image from its feature data\n",
    "\n",
    "The feature data for each image is stored as a flattened image, which is a 1D array of 728 values. In order to display the image, we need to *unflatten* the feature data for each image, to structure the data as a 28x28 image. The code below displays the first image and its target value."
   ]
  },
  {
   "cell_type": "code",
   "execution_count": null,
   "id": "8d4fe5f8",
   "metadata": {
    "deletable": false,
    "editable": false
   },
   "outputs": [],
   "source": [
    "img = X_train[0].reshape(28,28)"
   ]
  },
  {
   "cell_type": "code",
   "execution_count": null,
   "id": "8ca0130e",
   "metadata": {
    "deletable": false,
    "editable": false
   },
   "outputs": [],
   "source": [
    "import matplotlib.pyplot as plt\n",
    "fig = plt.figure()\n",
    "fig.set_size_inches(1,1)\n",
    "plt.imshow(img, cmap = plt.cm.gray_r)\n",
    "plt.axis('off')\n",
    "None"
   ]
  },
  {
   "cell_type": "markdown",
   "id": "a0dc2bad",
   "metadata": {
    "deletable": false,
    "editable": false
   },
   "source": [
    "Display the target value (see https://github.com/zalandoresearch/fashion-mnist#labels) for the target value names"
   ]
  },
  {
   "cell_type": "code",
   "execution_count": null,
   "id": "5ca41157",
   "metadata": {
    "deletable": false,
    "editable": false
   },
   "outputs": [],
   "source": [
    "y_train[0]"
   ]
  },
  {
   "cell_type": "code",
   "execution_count": null,
   "id": "772f6957",
   "metadata": {},
   "outputs": [],
   "source": []
  }
 ],
 "metadata": {
  "kernelspec": {
   "display_name": "Python 3 (ipykernel)",
   "language": "python",
   "name": "python3"
  },
  "language_info": {
   "codemirror_mode": {
    "name": "ipython",
    "version": 3
   },
   "file_extension": ".py",
   "mimetype": "text/x-python",
   "name": "python",
   "nbconvert_exporter": "python",
   "pygments_lexer": "ipython3",
   "version": "3.9.7"
  }
 },
 "nbformat": 4,
 "nbformat_minor": 5
}
