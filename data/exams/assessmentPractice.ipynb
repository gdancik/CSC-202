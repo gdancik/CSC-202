{
 "cells": [
  {
   "cell_type": "markdown",
   "metadata": {
    "deletable": false,
    "editable": false,
    "run_control": {
     "frozen": true
    }
   },
   "source": [
    "# Python Assessment Review\n",
    "\n",
    "## Assessment Topics\n",
    "- Output (*print*) and input (*input*)\n",
    "- Variables, assignment, and expressions\n",
    "- Sequences (lists, strings, and tuples)\n",
    "    - Creating a sequence\n",
    "    - Changing values of *mutable* sequences\n",
    "    - Slicing\n",
    "    - Adding an element to a list\n",
    "- Branching (*if*, *elif*, and *else*)\n",
    "    - Boolean values and evaluating boolean expressions\n",
    "    - Writing code with branches\n",
    "- *For* loops\n",
    "    - iterating over each element of a sequence\n",
    "    - iterating a fixed number of times (*range* function)\n",
    "    - iterating over the index and values using *enumerate*\n",
    "    - iterating over two sequences using the *zip* function"
   ]
  },
  {
   "cell_type": "markdown",
   "metadata": {},
   "source": [
    "## Assessment Format\n",
    "- Exam is open note/open book\n",
    "- The exam will consist of coding questions in a Jupyter Notebook\n",
    "- You only have the class period for the exam\n",
    "    - This means you need to study\n",
    "    - This means you need to have your notes and examples organized"
   ]
  },
  {
   "cell_type": "markdown",
   "metadata": {
    "deletable": false,
    "editable": false,
    "run_control": {
     "frozen": true
    }
   },
   "source": [
    "## Practice Problems\n",
    "\n",
    "Several practice questions are provided below. In addition, you should make sure you understand all class examples and zyBook questions."
   ]
  },
  {
   "cell_type": "markdown",
   "metadata": {
    "deletable": false,
    "editable": false,
    "run_control": {
     "frozen": true
    }
   },
   "source": [
    "### Question 1\n",
    "\n",
    "Create a variable called *name* that stores the value 'practice'"
   ]
  },
  {
   "cell_type": "code",
   "execution_count": null,
   "metadata": {},
   "outputs": [],
   "source": []
  },
  {
   "cell_type": "markdown",
   "metadata": {
    "deletable": false,
    "editable": false,
    "run_control": {
     "frozen": true
    }
   },
   "source": [
    "### Question 2\n",
    "\n",
    "Complete the code below to output 'This course number is CSC 202.', using the value of *course*.\n",
    "Note that there is a period at the end of the sentence."
   ]
  },
  {
   "cell_type": "code",
   "execution_count": null,
   "metadata": {},
   "outputs": [],
   "source": [
    "course = 'CSC 202'"
   ]
  },
  {
   "cell_type": "markdown",
   "metadata": {
    "deletable": false,
    "editable": false,
    "run_control": {
     "frozen": true
    }
   },
   "source": [
    "### Question 3\n",
    "The formula for converting a temperature in degrees Fahrenheit to Celsius is $(F - 32)\\times \\frac{5}{9}$.\n",
    "\n",
    "Convert the temperature below from Fahrenheit to Celsius, and output your result in the form\n",
    "```\n",
    "212 degrees Fahrenheit --> 100 degrees Celsius\n",
    "```"
   ]
  },
  {
   "cell_type": "code",
   "execution_count": null,
   "metadata": {},
   "outputs": [],
   "source": [
    "fahrenheit = 212"
   ]
  },
  {
   "cell_type": "markdown",
   "metadata": {
    "deletable": false,
    "editable": false
   },
   "source": [
    "### Question 4\n",
    "Use the topics list below to answer the following questions:"
   ]
  },
  {
   "cell_type": "code",
   "execution_count": null,
   "metadata": {
    "deletable": false,
    "editable": false
   },
   "outputs": [],
   "source": [
    "topics = ['output/input', 'variables', 'sequences', 'branching', 'loops']"
   ]
  },
  {
   "cell_type": "markdown",
   "metadata": {
    "deletable": false,
    "editable": false,
    "run_control": {
     "frozen": true
    }
   },
   "source": [
    "(a) How many topics have we covered (use Python to find the length of the list)?"
   ]
  },
  {
   "cell_type": "code",
   "execution_count": null,
   "metadata": {},
   "outputs": [],
   "source": []
  },
  {
   "cell_type": "markdown",
   "metadata": {
    "deletable": false,
    "editable": false,
    "run_control": {
     "frozen": true
    }
   },
   "source": [
    "(b) Output the first topic."
   ]
  },
  {
   "cell_type": "code",
   "execution_count": null,
   "metadata": {},
   "outputs": [],
   "source": []
  },
  {
   "cell_type": "markdown",
   "metadata": {
    "deletable": false,
    "editable": false,
    "run_control": {
     "frozen": true
    }
   },
   "source": [
    "(c) Output the last topic"
   ]
  },
  {
   "cell_type": "code",
   "execution_count": null,
   "metadata": {},
   "outputs": [],
   "source": []
  },
  {
   "cell_type": "markdown",
   "metadata": {
    "deletable": false,
    "editable": false,
    "run_control": {
     "frozen": true
    }
   },
   "source": [
    "(d) Add our next topic, 'functions', to the end of the list"
   ]
  },
  {
   "cell_type": "code",
   "execution_count": null,
   "metadata": {},
   "outputs": [],
   "source": []
  },
  {
   "cell_type": "markdown",
   "metadata": {
    "deletable": false,
    "editable": false,
    "run_control": {
     "frozen": true
    }
   },
   "source": [
    "### Question 5\n",
    "(a) Write a boolean expression that returns True if `course` is equal to 'CSC 202'"
   ]
  },
  {
   "cell_type": "code",
   "execution_count": null,
   "metadata": {},
   "outputs": [],
   "source": []
  },
  {
   "cell_type": "markdown",
   "metadata": {
    "deletable": false,
    "editable": false,
    "run_control": {
     "frozen": true
    }
   },
   "source": [
    "(b) Write a boolean expression that returns True if `age` is either 12 or under or `age` is 60 or over"
   ]
  },
  {
   "cell_type": "code",
   "execution_count": null,
   "metadata": {},
   "outputs": [],
   "source": []
  },
  {
   "cell_type": "markdown",
   "metadata": {
    "deletable": false,
    "editable": false,
    "run_control": {
     "frozen": true
    }
   },
   "source": [
    "### Question 6\n",
    "The `color` variable in the code below stores the value of the color of a traffic light. Output the following, depending on the color:\n",
    "- green: output 'go'\n",
    "- yellow: output 'slow down (or speed up)'\n",
    "- red: output 'stop'\n",
    "- anything else: output 'traffic light is broken'"
   ]
  },
  {
   "cell_type": "code",
   "execution_count": null,
   "metadata": {},
   "outputs": [],
   "source": [
    "color = 'green'"
   ]
  },
  {
   "cell_type": "markdown",
   "metadata": {
    "deletable": false,
    "editable": false,
    "run_control": {
     "frozen": true
    }
   },
   "source": [
    "### Question 7\n",
    "\n",
    "Use a *for* loop with a *range* statement to repeat 7 times and output the following:\n",
    "\n",
    "```\n",
    "iteration #1\n",
    "iteration #2\n",
    "...\n",
    "iteration #7\n",
    "```"
   ]
  },
  {
   "cell_type": "code",
   "execution_count": null,
   "metadata": {},
   "outputs": [],
   "source": []
  },
  {
   "cell_type": "markdown",
   "metadata": {
    "deletable": false,
    "editable": false,
    "run_control": {
     "frozen": true
    }
   },
   "source": [
    "### Question 8\n",
    "Use a *for* loop to output the positive numbers in the *num* list."
   ]
  },
  {
   "cell_type": "code",
   "execution_count": null,
   "metadata": {
    "deletable": false,
    "editable": false
   },
   "outputs": [],
   "source": [
    "nums = [9,-8,7,-6,3,2,-1,3,10,9]"
   ]
  },
  {
   "cell_type": "code",
   "execution_count": null,
   "metadata": {},
   "outputs": [],
   "source": []
  },
  {
   "cell_type": "markdown",
   "metadata": {
    "deletable": false,
    "editable": false
   },
   "source": [
    "### Question 9\n",
    "\n",
    "Use *enumerate* to iterate through the *index* and values of the *nums* list, and output the index where *userNum* is found. For example, if *userNum* is 3, your output should be:\n",
    "```\n",
    "Number 3 found at index 4\n",
    "Number 3 found at index 7\n",
    "```"
   ]
  },
  {
   "cell_type": "code",
   "execution_count": null,
   "metadata": {},
   "outputs": [],
   "source": [
    "userNum = 3"
   ]
  },
  {
   "cell_type": "markdown",
   "metadata": {
    "deletable": false,
    "editable": false
   },
   "source": [
    "### Question 10\n",
    "\n",
    "The code below prompts the user to enter their full name, and then converts the name to a list. Complete the code to output the person's initials. For example, if the user enters 'Adam Jones', then your code will output 'AJ'. If the user enters 'Adam Daniel Jones', then your code will output 'ADJ'."
   ]
  },
  {
   "cell_type": "code",
   "execution_count": null,
   "metadata": {
    "deletable": false,
    "editable": false
   },
   "outputs": [],
   "source": [
    "name = input('Enter your full name: ')\n",
    "nameList = name.split()\n",
    "nameList"
   ]
  },
  {
   "cell_type": "markdown",
   "metadata": {
    "deletable": false,
    "editable": false,
    "run_control": {
     "frozen": true
    }
   },
   "source": [
    "Complete the code below."
   ]
  },
  {
   "cell_type": "code",
   "execution_count": null,
   "metadata": {},
   "outputs": [],
   "source": []
  }
 ],
 "metadata": {
  "kernelspec": {
   "display_name": "Python 3",
   "language": "python",
   "name": "python3"
  },
  "language_info": {
   "codemirror_mode": {
    "name": "ipython",
    "version": 3
   },
   "file_extension": ".py",
   "mimetype": "text/x-python",
   "name": "python",
   "nbconvert_exporter": "python",
   "pygments_lexer": "ipython3",
   "version": "3.6.7"
  }
 },
 "nbformat": 4,
 "nbformat_minor": 2
}
