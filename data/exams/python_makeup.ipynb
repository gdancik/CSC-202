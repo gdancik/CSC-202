{
 "cells": [
  {
   "cell_type": "markdown",
   "metadata": {
    "deletable": false,
    "editable": false
   },
   "source": [
    "# Assessment / Project Make up\n",
    "\n",
    "### Directions\n",
    "\n",
    "These makeup questions are optional. If turned in, your lowest python assessment / project grade will be averaged with this one (i.e., you can earn up to half of the points back).\n",
    "\n",
    "Note that for questions 1 - 6 you will need to use the default kernel. For the remaining questions, you will need to switch to the kernel that has *tensorflow* installed. \n",
    "\n",
    "YOu must submit your assignment through Blackboard before the due date to receive credit. Your grade will be calculated as a percentage out of 85 possible points.\n",
    "\n",
    "\n",
    "Type your name below <span style = 'font-size: 80%'>(3 points)</span>"
   ]
  },
  {
   "cell_type": "markdown",
   "metadata": {},
   "source": [
    "## Name: "
   ]
  },
  {
   "cell_type": "markdown",
   "metadata": {
    "deletable": false,
    "editable": false
   },
   "source": [
    "### Question 1  <span style = 'font-size: 80%'>(8 points)</span>\n",
    "\n",
    "Create a variable named *courseNum* that has the value 'CSC 202' and the variable *courseName* that has the value 'Intro to Machine Intelligence'. Then use those variables to output the following:\n",
    "\n",
    "```\n",
    "This course is CSC 202: Intro to Machine Intelligence\n",
    "```"
   ]
  },
  {
   "cell_type": "code",
   "execution_count": null,
   "metadata": {},
   "outputs": [],
   "source": []
  },
  {
   "cell_type": "markdown",
   "metadata": {
    "deletable": false,
    "editable": false
   },
   "source": [
    "### Question 2 <span style = 'font-size: 80%'>(8 points)</span>\n",
    "Use the *students* list below to answer the following questions:"
   ]
  },
  {
   "cell_type": "code",
   "execution_count": null,
   "metadata": {
    "deletable": false,
    "editable": false
   },
   "outputs": [],
   "source": [
    "students = [\"Mary Jones\", \"Steve Simpson\", \"Coraline Smith\"]"
   ]
  },
  {
   "cell_type": "markdown",
   "metadata": {
    "deletable": false,
    "editable": false
   },
   "source": [
    "(a) Use Python to find the number of items in the list."
   ]
  },
  {
   "cell_type": "code",
   "execution_count": null,
   "metadata": {},
   "outputs": [],
   "source": []
  },
  {
   "cell_type": "markdown",
   "metadata": {
    "deletable": false,
    "editable": false
   },
   "source": [
    "(b) Use Python to display the last item in the list."
   ]
  },
  {
   "cell_type": "code",
   "execution_count": null,
   "metadata": {},
   "outputs": [],
   "source": []
  },
  {
   "cell_type": "markdown",
   "metadata": {
    "deletable": false,
    "editable": false
   },
   "source": [
    "(c) Use slicing to display the first 2 items in the list."
   ]
  },
  {
   "cell_type": "code",
   "execution_count": null,
   "metadata": {},
   "outputs": [],
   "source": []
  },
  {
   "cell_type": "markdown",
   "metadata": {
    "deletable": false,
    "editable": false
   },
   "source": [
    "(d) Add the name 'Maggie Knowles' to the list"
   ]
  },
  {
   "cell_type": "code",
   "execution_count": null,
   "metadata": {},
   "outputs": [],
   "source": []
  },
  {
   "cell_type": "markdown",
   "metadata": {
    "deletable": false,
    "editable": false
   },
   "source": [
    "### Question 3 <span style = 'font-size: 80%'>(8 points)</span>\n",
    "Use the *zip* function in order to iterate over both the names and ages of the students to output the names and ages of each student using the format\n",
    "\n",
    "```\n",
    "Mary Jones is 17 years old.\n",
    "```"
   ]
  },
  {
   "cell_type": "code",
   "execution_count": null,
   "metadata": {
    "deletable": false,
    "editable": false
   },
   "outputs": [],
   "source": [
    "students = [\"Mary Jones\", \"Steve Simpson\", \"Coraline Smith\"]\n",
    "ages = [17, 19, 18]"
   ]
  },
  {
   "cell_type": "code",
   "execution_count": null,
   "metadata": {},
   "outputs": [],
   "source": []
  },
  {
   "cell_type": "markdown",
   "metadata": {
    "deletable": false,
    "editable": false
   },
   "source": [
    "### Question 4 <span style = 'font-size: 80%'>(8 points)</span>\n",
    "Write a function called *addOne* that adds the number 1 to each element in list. Then use this function to add the number one to a list containing the numbers 2, 7, and 5 (which should return the list containing 3, 8, and 6)."
   ]
  },
  {
   "cell_type": "markdown",
   "metadata": {
    "deletable": false,
    "editable": false
   },
   "source": [
    "## NLP questions\n",
    "The following is taken from an Amazon review of the movie \"Star Wars: The Last Jedi\". Analyze the review by completing the questions below."
   ]
  },
  {
   "cell_type": "code",
   "execution_count": null,
   "metadata": {
    "deletable": false,
    "editable": false
   },
   "outputs": [],
   "source": [
    "starwars = \"\"\"\n",
    "As a Star Wars fan this movie was a long time coming. \n",
    "Excellent story, lots of action, great ending. \n",
    "One of the best Star Wars since The Empire Strikes Back. \n",
    "5 Stars\n",
    "\"\"\" \n",
    "\n",
    "print(starwars)"
   ]
  },
  {
   "cell_type": "markdown",
   "metadata": {
    "deletable": false,
    "editable": false
   },
   "source": [
    "### Question 5 <span style = 'font-size: 80%'>(8 points)</span>\n",
    "\n",
    "Use *textblob* to output each setence and its corresponding polarity, using the format\n",
    "```\n",
    "sentence: polarity\n",
    "```"
   ]
  },
  {
   "cell_type": "code",
   "execution_count": null,
   "metadata": {},
   "outputs": [],
   "source": []
  },
  {
   "cell_type": "markdown",
   "metadata": {
    "deletable": false,
    "editable": false
   },
   "source": [
    "### Question 6 <span style = 'font-size: 80%'>(8 points)</span>\n",
    "Output all of the adjectives in the review (adjectives have part of speech tags of 'JJ' or 'JJS')"
   ]
  },
  {
   "cell_type": "code",
   "execution_count": null,
   "metadata": {},
   "outputs": [],
   "source": []
  },
  {
   "cell_type": "markdown",
   "metadata": {
    "deletable": false,
    "editable": false
   },
   "source": [
    "### Question 7 <span style = 'font-size: 80%'>(6 points)</span>\n",
    "Generate a wordcloud of the review (Note: the word sizes may not display correctly -- this requires setting max_font_size, but you do not need to worry about this for this question). "
   ]
  },
  {
   "cell_type": "markdown",
   "metadata": {
    "deletable": false,
    "editable": false
   },
   "source": [
    "## Tensorflow questions\n",
    "\n",
    "**Note:** You will need to switch kernels here so that you are using the kernel that contains tensorflow.\n",
    "\n",
    "\n",
    "### Load the NMIST handwritten digits data"
   ]
  },
  {
   "cell_type": "code",
   "execution_count": null,
   "metadata": {
    "deletable": false,
    "editable": false
   },
   "outputs": [],
   "source": [
    "from tensorflow.keras.datasets import mnist\n",
    "(X_train, y_train), (X_test, y_test) = mnist.load_data()"
   ]
  },
  {
   "cell_type": "markdown",
   "metadata": {
    "deletable": false,
    "editable": false
   },
   "source": [
    "### Question 8 <span style = 'font-size: 80%'>(6 points)</span>\n",
    "\n",
    "Use the Counter from the *collections* module to output the number of observations in the training dataset with a target value of 3 (your code should only output this one value)."
   ]
  },
  {
   "cell_type": "code",
   "execution_count": null,
   "metadata": {
    "deletable": false,
    "editable": false
   },
   "outputs": [],
   "source": [
    "from collections import Counter"
   ]
  },
  {
   "cell_type": "markdown",
   "metadata": {
    "deletable": false,
    "editable": false
   },
   "source": [
    "### Specify the structure for a convolutional neural network"
   ]
  },
  {
   "cell_type": "code",
   "execution_count": null,
   "metadata": {
    "deletable": false,
    "editable": false
   },
   "outputs": [],
   "source": [
    "\n",
    "from tensorflow.keras.models import Sequential\n",
    "from tensorflow.keras.layers import Flatten, Dense, Conv2D, MaxPooling2D\n",
    "\n",
    "cnn = Sequential()\n",
    "cnn.add( Conv2D(filters = 60, kernel_size = (3,3), activation = 'relu', input_shape = (28,28, 1))  )\n",
    "cnn.add(MaxPooling2D(pool_size = (2,2)))\n",
    "cnn.add(Flatten())\n",
    "cnn.add(Dense(100, activation = 'relu'))\n",
    "cnn.add(Dense(10, activation = 'softmax'))\n",
    "cnn.summary()"
   ]
  },
  {
   "cell_type": "markdown",
   "metadata": {
    "deletable": false,
    "editable": false
   },
   "source": [
    "### Question 9 <span style = 'font-size: 80%'>(6 points)</span>\n",
    "\n",
    "Compile and train the *cnn* model using the training data for 3 epochs."
   ]
  },
  {
   "cell_type": "code",
   "execution_count": null,
   "metadata": {},
   "outputs": [],
   "source": []
  },
  {
   "cell_type": "markdown",
   "metadata": {
    "deletable": false,
    "editable": false
   },
   "source": [
    "### Question 10 <span style = 'font-size: 80%'>(6 points)</span>\n",
    "\n",
    "Use the fitted model to make predictions in the test data set, and output the first 10 predicted target values."
   ]
  },
  {
   "cell_type": "code",
   "execution_count": null,
   "metadata": {},
   "outputs": [],
   "source": []
  },
  {
   "cell_type": "markdown",
   "metadata": {
    "deletable": false,
    "editable": false
   },
   "source": [
    "### Question 11 <span style = 'font-size: 80%'>(10 points)</span>\n",
    "\n",
    "Create a list where each element is a tuple containing a test image, its correct target value, and its predicted value for each test image that was predicted incorrectly. \n",
    "\n",
    "(a) Output the length of your list to find the number of predictions that were not correct."
   ]
  },
  {
   "cell_type": "code",
   "execution_count": null,
   "metadata": {},
   "outputs": [],
   "source": []
  },
  {
   "cell_type": "markdown",
   "metadata": {
    "deletable": false,
    "editable": false
   },
   "source": [
    "(b) Use *imshow* to display the first incorrect image. Include the correct value and predicted value in the title of the image."
   ]
  },
  {
   "cell_type": "code",
   "execution_count": null,
   "metadata": {},
   "outputs": [],
   "source": []
  }
 ],
 "metadata": {
  "kernelspec": {
   "display_name": "Python [conda env:tf_env]",
   "language": "python",
   "name": "conda-env-tf_env-py"
  },
  "language_info": {
   "codemirror_mode": {
    "name": "ipython",
    "version": 3
   },
   "file_extension": ".py",
   "mimetype": "text/x-python",
   "name": "python",
   "nbconvert_exporter": "python",
   "pygments_lexer": "ipython3",
   "version": "3.6.7"
  }
 },
 "nbformat": 4,
 "nbformat_minor": 2
}
