{
 "cells": [
  {
   "cell_type": "markdown",
   "metadata": {
    "deletable": false,
    "editable": false
   },
   "source": [
    "# Lab 10: kNN"
   ]
  },
  {
   "cell_type": "markdown",
   "metadata": {
    "deletable": false,
    "editable": false
   },
   "source": [
    "Write your name in the *markdown* cell below [2 points]"
   ]
  },
  {
   "cell_type": "markdown",
   "metadata": {},
   "source": [
    "### Name: "
   ]
  },
  {
   "cell_type": "markdown",
   "metadata": {
    "deletable": false,
    "editable": false
   },
   "source": [
    "We will start by looking again at the MNIST handwritten digits dataset."
   ]
  },
  {
   "cell_type": "markdown",
   "metadata": {
    "deletable": false,
    "editable": false
   },
   "source": [
    "### Load the data"
   ]
  },
  {
   "cell_type": "code",
   "execution_count": null,
   "metadata": {
    "deletable": false,
    "editable": false
   },
   "outputs": [],
   "source": [
    "from sklearn import datasets\n",
    "\n",
    "# load data set and extract the features (X) and target values (y)\n",
    "digits = datasets.load_digits()\n",
    "X = digits.data\n",
    "y = digits.target"
   ]
  },
  {
   "cell_type": "markdown",
   "metadata": {
    "deletable": false,
    "editable": false
   },
   "source": [
    "### Visualize the data"
   ]
  },
  {
   "cell_type": "code",
   "execution_count": null,
   "metadata": {
    "deletable": false,
    "editable": false
   },
   "outputs": [],
   "source": [
    "import matplotlib.pyplot as plt\n",
    "# visualize the data by plotting the first 30 images\n",
    "figure, axes = plt.subplots(3,10, figsize = (15,6))\n",
    "for ax,image,number in zip(axes.ravel(), digits.images, y) :\n",
    "    ax.axis('off')\n",
    "    ax.imshow(image, cmap = plt.cm.gray_r)\n",
    "    ax.set_title('Number: ' + str(number))"
   ]
  },
  {
   "cell_type": "markdown",
   "metadata": {
    "deletable": false,
    "editable": false
   },
   "source": [
    "### Question 1 <span style = 'font-size:80%'>[5 points]</span>\n",
    "\n",
    "Display the 200th image (and only this image), along with its target value."
   ]
  },
  {
   "cell_type": "code",
   "execution_count": null,
   "metadata": {},
   "outputs": [],
   "source": []
  },
  {
   "cell_type": "markdown",
   "metadata": {
    "deletable": false,
    "editable": false
   },
   "source": [
    "### Question 2 <span style = 'font-size:80%'>[5 points]</span>\n",
    "\n",
    "How many digits in the target list are 4s? Your answer should display only the number of 4s. Hint: you can find this answer by using a Counter and displaying the number of 4s, or by creating a list of target values containing only 4s, and then displaying the length of this list."
   ]
  },
  {
   "cell_type": "code",
   "execution_count": null,
   "metadata": {},
   "outputs": [],
   "source": []
  },
  {
   "cell_type": "markdown",
   "metadata": {
    "deletable": false,
    "editable": false
   },
   "source": [
    "### Split data into training and testing sets, fit the model, and make predictions in the *test* dataset"
   ]
  },
  {
   "cell_type": "code",
   "execution_count": null,
   "metadata": {
    "deletable": false,
    "editable": false
   },
   "outputs": [],
   "source": [
    "from sklearn.neighbors import KNeighborsClassifier\n",
    "from sklearn.model_selection import train_test_split \n",
    "\n",
    "X_train, X_test, y_train, y_test = train_test_split(X, y, test_size=0.33, random_state=99, stratify = y)\n",
    "knn = KNeighborsClassifier(n_neighbors=3)\n",
    "knn.fit(X_train, y_train)\n",
    "y_pred = knn.predict(X_test)"
   ]
  },
  {
   "cell_type": "markdown",
   "metadata": {
    "deletable": false,
    "editable": false
   },
   "source": [
    "### Look at the *confusion matrix*"
   ]
  },
  {
   "cell_type": "code",
   "execution_count": null,
   "metadata": {
    "deletable": false,
    "editable": false
   },
   "outputs": [],
   "source": [
    "from sklearn.metrics import confusion_matrix\n",
    "import seaborn as sns\n",
    "\n",
    "confusion = confusion_matrix(y_true = y_test, y_pred = y_pred)\n",
    "s = sns.heatmap(confusion, annot = True, cmap = 'nipy_spectral_r')\n",
    "s.set_title('Confusion matrix for MNIST dataset')\n",
    "s.set_ylabel('true value')\n",
    "s.set_xlabel('predicted value')\n",
    "None"
   ]
  },
  {
   "cell_type": "markdown",
   "metadata": {
    "deletable": false,
    "editable": false
   },
   "source": [
    "### Question 3 <span style = 'font-size:80%'>[6 points]</span>\n",
    "\n",
    "As discussed previously, remember that\n",
    "- the *recall* for a target value is the proportion of those target values that are predicted correctly\n",
    "- the *precision* for a target value is the proportion of the predicted target values, for that value, that are correct\n",
    "- the $f_1$ *score* for a target value is the harmonic mean of *precision* and *recall* for that target value\n",
    "\n",
    "(a) Using Python as a calculator, calculate the *recall*, for the target value of 8, using the confusion matrix above."
   ]
  },
  {
   "cell_type": "code",
   "execution_count": null,
   "metadata": {},
   "outputs": [],
   "source": []
  },
  {
   "cell_type": "markdown",
   "metadata": {
    "deletable": false,
    "editable": false
   },
   "source": [
    "(b) Using Python as a calculator, calculate the *precision*, for the target value of 8, using the confusion matrix above."
   ]
  },
  {
   "cell_type": "code",
   "execution_count": null,
   "metadata": {},
   "outputs": [],
   "source": []
  },
  {
   "cell_type": "markdown",
   "metadata": {},
   "source": [
    "### Calculate the *balanced accuracy*"
   ]
  },
  {
   "cell_type": "code",
   "execution_count": null,
   "metadata": {
    "deletable": false,
    "editable": false
   },
   "outputs": [],
   "source": [
    "from sklearn import metrics\n",
    "# calculate the balanced accuracy using metrics.accuracy_score\n",
    "metrics.balanced_accuracy_score(y_test, y_pred)"
   ]
  },
  {
   "cell_type": "markdown",
   "metadata": {
    "deletable": false,
    "editable": false
   },
   "source": [
    "### Question 4 <span style = 'font-size:80%'>[4 points]</span>\n",
    "\n",
    "Using the training and testing sets from above, calculate the balanced accuracy when using *kNN* with *k = 7*. Which value of *k* performs better, 3 or 7?"
   ]
  },
  {
   "cell_type": "code",
   "execution_count": null,
   "metadata": {},
   "outputs": [],
   "source": []
  },
  {
   "cell_type": "markdown",
   "metadata": {
    "deletable": false,
    "editable": false
   },
   "source": [
    "### K-fold cross validation\n",
    "The process of k-fold cross-validation involves splitting the dataset into _k_ groups, then using the first group for testing and the remaining *k-1* groups for training; this process is then repeated using the second group for testing and the remaining *k-1* groups for training, then the third group for testing, and so on. \n",
    "\n",
    "Commonly the value *k = 10* is used (Note that this is a different _k_ than the one in *knn*).\n",
    "\n",
    "Cross-validation is useful for *hyperparameter tuning*, which is used to find the optimal (best values) for model hyperparameters such as the value of _k_ in *knn*. \n",
    "\n",
    "The code below demonstrates how to use the *KFold* class and *cross_val_score* function to find the best value of *k*.\n"
   ]
  },
  {
   "cell_type": "code",
   "execution_count": null,
   "metadata": {
    "deletable": false,
    "editable": false
   },
   "outputs": [],
   "source": [
    "from sklearn.model_selection import KFold\n",
    "from sklearn.model_selection import cross_val_score\n",
    "\n",
    "# create an empty list to store accuracies\n",
    "acc = []\n",
    "\n",
    "# values of 'k' to iterate through\n",
    "kvals = list(range(1,27,2))\n",
    "\n",
    "# for each value of 'k', create a knn estimator and find the mean balanced accuracy using 10-fold cross validation\n",
    "for k in kvals :\n",
    "\n",
    "    # create kNN model (estimator)\n",
    "    knn = KNeighborsClassifier(n_neighbors=k)\n",
    "    \n",
    "    # create the k = 10 folds\n",
    "    kfold = KFold(n_splits=10, random_state=99, shuffle = True)\n",
    "    \n",
    "    # return an array of scores that contains the balanced accuracy for each fold\n",
    "    scores = cross_val_score(estimator = knn, X = digits.data, y = digits.target, cv = kfold, scoring = \"balanced_accuracy\" )\n",
    "    print('mean balanced accuracy with k = ', k, ': ', scores.mean(), sep = '')\n",
    "\n",
    "    # add the mean balanced accuracy for the current fold to the list\n",
    "    acc.append(scores.mean())"
   ]
  },
  {
   "cell_type": "markdown",
   "metadata": {
    "deletable": false,
    "editable": false
   },
   "source": [
    "### Question 5 <span style = 'font-size:80%'>[4 points]</span>\n",
    "\n",
    "We want to find the value of *k* that yields the highest balanced accuracy in the test set. This can be done by visualizing the results as shown below. What value of _k_ is the best?"
   ]
  },
  {
   "cell_type": "code",
   "execution_count": null,
   "metadata": {
    "deletable": false,
    "editable": false
   },
   "outputs": [],
   "source": [
    "s = sns.pointplot(x=kvals, y=acc)\n",
    "s.set_xlabel('k')\n",
    "s.set_ylabel('balanced accuracy')\n",
    "s.set_title('Balanced accuracy for 10-fold cross-validation using kNN in MNIST dataset')\n",
    "None"
   ]
  },
  {
   "cell_type": "markdown",
   "metadata": {
    "deletable": false,
    "editable": false
   },
   "source": [
    "## Breast Cancer Classification \n",
    "\n",
    "The code below loads the *Breast cancer wisconsin dataset* that contains data for 569 images (though the data does not consist of the actual images). Each image is a breast mass that is either malignant (cancerous) or benign (normal). The features are measurements of the cell nuclei in each image, such as the radius of the nuclei (the interpretation of the features is not important, but feel free to ask questions if you are interested). This application has important medical implications -- the goal is to diagnose breast (and other) cancers more accurately and more quickly."
   ]
  },
  {
   "cell_type": "code",
   "execution_count": null,
   "metadata": {
    "deletable": false,
    "editable": false
   },
   "outputs": [],
   "source": [
    "# load the data\n",
    "bc = datasets.load_breast_cancer()\n",
    "\n",
    "# extract the feature data into 'X'\n",
    "X = bc.data\n",
    "\n",
    "# extract the target data into 'y'\n",
    "y = bc.target"
   ]
  },
  {
   "cell_type": "markdown",
   "metadata": {
    "deletable": false,
    "editable": false
   },
   "source": [
    "### Question 6 <span style = 'font-size:80%'>[7 points]</span>\n",
    "\n",
    "(a) Use python to display the number of samples in this dataset, based on *X*. You should only output the number of samples. Hint: `X.shape` returns a *tuple*."
   ]
  },
  {
   "cell_type": "code",
   "execution_count": null,
   "metadata": {
    "deletable": false,
    "editable": false
   },
   "outputs": [],
   "source": []
  },
  {
   "cell_type": "markdown",
   "metadata": {
    "deletable": false,
    "editable": false
   },
   "source": [
    "(b) Use python to display the number of features in this dataset, based on *X*. You should only output the number of features."
   ]
  },
  {
   "cell_type": "code",
   "execution_count": null,
   "metadata": {},
   "outputs": [],
   "source": []
  },
  {
   "cell_type": "markdown",
   "metadata": {
    "deletable": false,
    "editable": false
   },
   "source": [
    "(c) Display the names of the features (and only these names), by accessing the appropriate value of the *bc* object."
   ]
  },
  {
   "cell_type": "code",
   "execution_count": null,
   "metadata": {},
   "outputs": [],
   "source": []
  },
  {
   "cell_type": "markdown",
   "metadata": {
    "deletable": false,
    "editable": false
   },
   "source": [
    "### Question 7 <span style = 'font-size:80%'>[5 points]</span>\n",
    "\n",
    "Use the seaborn (*sns*) module to plot the mean radius on the x-axis and the mean smoothness on the y-axis, with the samples color coded by target value. Your plot should include appropriate x- and y-labels, as well as a title. This plot should demonstrate that these features can separate the '0' and '1' target values, which suggest that *kNN* will be effective."
   ]
  },
  {
   "cell_type": "code",
   "execution_count": null,
   "metadata": {},
   "outputs": [],
   "source": []
  },
  {
   "cell_type": "markdown",
   "metadata": {
    "deletable": false,
    "editable": false
   },
   "source": [
    "### Question 8 <span style = 'font-size:80%'>[10 points]</span>\n",
    "\n",
    "The code below generates training and testing data for the Breast Cancer dataset. \n",
    "\n",
    "(a) Add code to make predictions in the testing dataset using *kNN* with *k = 3*. Then generate a confusion matrix and a heatmap (set the argument *fmt* to '.3g' in the *heatmap* method, to allow for 3 significant digits)"
   ]
  },
  {
   "cell_type": "code",
   "execution_count": null,
   "metadata": {
    "deletable": false,
    "editable": false
   },
   "outputs": [],
   "source": [
    "from sklearn.neighbors import KNeighborsClassifier\n",
    "from sklearn.model_selection import train_test_split \n",
    "\n",
    "X_train, X_test, y_train, y_test = train_test_split(X, y, test_size=0.33, random_state=99, stratify = y)"
   ]
  },
  {
   "cell_type": "code",
   "execution_count": null,
   "metadata": {},
   "outputs": [],
   "source": []
  },
  {
   "cell_type": "markdown",
   "metadata": {
    "deletable": false,
    "editable": false
   },
   "source": [
    "(b) Calculate the balanced accuracy."
   ]
  },
  {
   "cell_type": "code",
   "execution_count": null,
   "metadata": {},
   "outputs": [],
   "source": []
  },
  {
   "cell_type": "markdown",
   "metadata": {
    "deletable": false,
    "editable": false
   },
   "source": [
    "### Question 9 <span style = 'font-size:80%'>[9 points]</span>\n",
    "\n",
    "Generate a classification report, using the target names, and answer the questions below:"
   ]
  },
  {
   "cell_type": "code",
   "execution_count": null,
   "metadata": {},
   "outputs": [],
   "source": []
  },
  {
   "cell_type": "markdown",
   "metadata": {
    "deletable": false,
    "editable": false
   },
   "source": [
    "(a) If this classifier is used, what proportion of malignant tumors would be identified (this is the *recall* for malignant images)?"
   ]
  },
  {
   "cell_type": "code",
   "execution_count": null,
   "metadata": {},
   "outputs": [],
   "source": []
  },
  {
   "cell_type": "markdown",
   "metadata": {
    "deletable": false,
    "editable": false
   },
   "source": [
    "(b) If this classifier is used, what proportion of healthy individuals would be predicted to have cancer (this is the *false positive* rate and is equal to 1 - the *precision* for malignant images)."
   ]
  },
  {
   "cell_type": "code",
   "execution_count": null,
   "metadata": {},
   "outputs": [],
   "source": []
  }
 ],
 "metadata": {
  "kernelspec": {
   "display_name": "Python 3 (ipykernel)",
   "language": "python",
   "name": "python3"
  },
  "language_info": {
   "codemirror_mode": {
    "name": "ipython",
    "version": 3
   },
   "file_extension": ".py",
   "mimetype": "text/x-python",
   "name": "python",
   "nbconvert_exporter": "python",
   "pygments_lexer": "ipython3",
   "version": "3.9.7"
  }
 },
 "nbformat": 4,
 "nbformat_minor": 2
}
