{
 "cells": [
  {
   "cell_type": "markdown",
   "metadata": {
    "deletable": false,
    "editable": false
   },
   "source": [
    "# Lab 12: Multilayer perceptron classification using *scikit-learn*\n",
    "\n",
    "\n",
    "## Using a perceptron to for classification of a small example dataset\n",
    "\n",
    "A small, made up dataset is provided below, and is composed of the following:\n",
    "\n",
    "- *X*: the feature matrix consisting of 100 values of 1 variable\n",
    "- *y*: the target values, consisting of either 0 or 1\n"
   ]
  },
  {
   "cell_type": "code",
   "execution_count": null,
   "metadata": {
    "deletable": false,
    "editable": false
   },
   "outputs": [],
   "source": [
    "# Generate X values from 1 - 100\n",
    "X = np.arange(1,101)\n",
    "\n",
    "# Generate corresponding target values which are to 1 if the feature > 50; or 0 otherwise\n",
    "l = [int(x > 50) for x in X]\n",
    "y = np.array(l)\n",
    "\n",
    "# X must be 2-dimensional for scikit learn, so reshape the data\n",
    "X = X.reshape((100, 1))"
   ]
  },
  {
   "attachments": {
    "image.png": {
     "image/png": "[encoded data removed]"
    }
   },
   "cell_type": "markdown",
   "metadata": {
    "deletable": false,
    "editable": false
   },
   "source": [
    "### Question 1\n",
    "\n",
    "Use the seaborn module to generate a scatterplot that plots the first column of X on the x-axis and the number 0 on the y-axis (the second argument should simply be 0), and color the points by *y* value. The plot should look like the plot below\n",
    "\n",
    "![image.png](attachment:image.png)"
   ]
  },
  {
   "cell_type": "markdown",
   "metadata": {
    "deletable": false,
    "editable": false
   },
   "source": [
    "The code below fits a *Perceptron* classifier to the data. As covered in class, a perceptron consist of an input layer, a single neuron, and an output layer. The single neuron fires if the sum of weighted inputs is greater than the bias term."
   ]
  },
  {
   "cell_type": "code",
   "execution_count": null,
   "metadata": {
    "deletable": false,
    "editable": false
   },
   "outputs": [],
   "source": [
    "from sklearn.linear_model import Perceptron\n",
    "\n",
    "perceptron = Perceptron(max_iter=5000, random_state = 1, tol = 1e-10)\n",
    "perceptron.fit(X,y)"
   ]
  },
  {
   "cell_type": "markdown",
   "metadata": {
    "deletable": false,
    "editable": false
   },
   "source": [
    "### Question 2\n",
    "Show that the perceptron fits the training data with 100% accuracy, by creating a heatmap showing the confusion matrix for predictions on the training data."
   ]
  },
  {
   "cell_type": "code",
   "execution_count": null,
   "metadata": {},
   "outputs": [],
   "source": [
    "\n",
    "\n"
   ]
  },
  {
   "cell_type": "markdown",
   "metadata": {
    "deletable": false,
    "editable": false
   },
   "source": [
    "### Question 3\n",
    "The weight and bias term for the neuron are displayed below. Based on the weight and bias term, when does the neuron fire? Given the graph of the data from Question 1 (and using a little bit of algebra), does this make sense? Why or why not?\n",
    "\n",
    "(Note: the intercept has the opposite sign of the bias term that we discussed in class; hence we output *-perceptron.intercept_[0]*; this output is the *bias*)"
   ]
  },
  {
   "cell_type": "code",
   "execution_count": null,
   "metadata": {
    "deletable": false,
    "editable": false
   },
   "outputs": [],
   "source": [
    "print('The weight for the first layer is:', perceptron.coef_[0][0])\n",
    "print('The bias for the first layer is: ', -perceptron.intercept_[0])"
   ]
  },
  {
   "cell_type": "markdown",
   "metadata": {},
   "source": [
    "Answer: "
   ]
  },
  {
   "cell_type": "markdown",
   "metadata": {
    "deletable": false,
    "editable": false
   },
   "source": [
    "## Multilayer perceptron on the MNIST dataset\n",
    "\n",
    "We will now use a multilayer perceptron to classify the MNIST dataset, considering all 10 digits\n",
    "\n",
    "### Load the data"
   ]
  },
  {
   "cell_type": "code",
   "execution_count": null,
   "metadata": {
    "deletable": false,
    "editable": false
   },
   "outputs": [],
   "source": [
    "from sklearn import datasets\n",
    "digits = datasets.load_digits()\n",
    "X = digits.data\n",
    "y = digits.target"
   ]
  },
  {
   "cell_type": "markdown",
   "metadata": {
    "deletable": false,
    "editable": false
   },
   "source": [
    "### Split the data into training and testing"
   ]
  },
  {
   "cell_type": "code",
   "execution_count": null,
   "metadata": {
    "deletable": false,
    "editable": false
   },
   "outputs": [],
   "source": [
    "from sklearn.model_selection import train_test_split\n",
    "X_train, X_test, y_train, y_test = train_test_split(X, y, test_size=0.33, random_state=21, stratify = y)"
   ]
  },
  {
   "cell_type": "markdown",
   "metadata": {
    "deletable": false,
    "editable": false
   },
   "source": [
    "### Scale the data"
   ]
  },
  {
   "cell_type": "code",
   "execution_count": null,
   "metadata": {
    "deletable": false,
    "editable": false
   },
   "outputs": [],
   "source": [
    "from sklearn.preprocessing import StandardScaler\n",
    "scaler = StandardScaler()\n",
    "\n",
    "# fit the scaler on the training data\n",
    "scaler.fit(X_train)\n",
    "\n",
    "# then user the scaler to scale the training and testing data \n",
    "X_train = scaler.transform(X_train)\n",
    "X_test = scaler.transform(X_test)"
   ]
  },
  {
   "cell_type": "markdown",
   "metadata": {
    "deletable": false,
    "editable": false
   },
   "source": [
    "### Fit the model"
   ]
  },
  {
   "cell_type": "code",
   "execution_count": null,
   "metadata": {
    "deletable": false,
    "editable": false
   },
   "outputs": [],
   "source": [
    "from sklearn.neural_network import MLPClassifier\n",
    "mlp = MLPClassifier(hidden_layer_sizes=10, max_iter=1000, verbose = True, random_state=211)\n",
    "mlp.fit(X_train, y_train)"
   ]
  },
  {
   "cell_type": "markdown",
   "metadata": {},
   "source": [
    "### Plot the loss curve"
   ]
  },
  {
   "cell_type": "code",
   "execution_count": null,
   "metadata": {
    "deletable": false,
    "editable": false
   },
   "outputs": [],
   "source": [
    "import matplotlib.pyplot as plt\n",
    "plt.plot(mlp.loss_curve_)\n",
    "plt.xlabel('Number of epochs')\n",
    "plt.ylabel('loss')\n",
    "plt.title('The loss curve for our mlp classifier')\n",
    "None"
   ]
  },
  {
   "cell_type": "markdown",
   "metadata": {
    "deletable": false,
    "editable": false
   },
   "source": [
    "### Make predictions in the *test* dataset"
   ]
  },
  {
   "cell_type": "code",
   "execution_count": null,
   "metadata": {
    "deletable": false,
    "editable": false
   },
   "outputs": [],
   "source": [
    "y_pred = mlp.predict(X_test)"
   ]
  },
  {
   "cell_type": "markdown",
   "metadata": {
    "deletable": false,
    "editable": false
   },
   "source": [
    "### Evaluate the results by looking at the *confusion matrix*"
   ]
  },
  {
   "cell_type": "code",
   "execution_count": null,
   "metadata": {
    "deletable": false,
    "editable": false
   },
   "outputs": [],
   "source": [
    "from sklearn.metrics import confusion_matrix\n",
    "import seaborn as sns\n",
    "confusion = confusion_matrix(y_true = y_test, y_pred = y_pred)\n",
    "df = pd.DataFrame(confusion)\n",
    "s = sns.heatmap(df, annot = True, cmap = 'nipy_spectral_r', )\n",
    "s.set_title('Confusion matrix for MNIST dataset')\n",
    "None"
   ]
  },
  {
   "cell_type": "markdown",
   "metadata": {
    "deletable": false,
    "editable": false
   },
   "source": [
    "### Question 5\n",
    "\n",
    "Based on the heatmap above, use Python as a calculator to output (a) the recall of the digit 8 and (b) the precision for the digit 8."
   ]
  },
  {
   "cell_type": "code",
   "execution_count": null,
   "metadata": {},
   "outputs": [],
   "source": []
  },
  {
   "cell_type": "markdown",
   "metadata": {
    "deletable": false,
    "editable": false
   },
   "source": [
    "### Question 5\n",
    "\n",
    "In the test dataset, the 50th value is predicted to be a 3, as shown in the code below. What is the true value of the 50th digit?"
   ]
  },
  {
   "cell_type": "code",
   "execution_count": null,
   "metadata": {
    "deletable": false,
    "editable": false
   },
   "outputs": [],
   "source": [
    "# get 50th value; reshape is needed to maintain 2D format\n",
    "X50 = X_test[49,].reshape(1,-1)\n",
    "mlp.predict(X50)"
   ]
  },
  {
   "cell_type": "code",
   "execution_count": null,
   "metadata": {},
   "outputs": [],
   "source": [
    "# output true value of the 50th target value\n",
    "\n"
   ]
  },
  {
   "cell_type": "markdown",
   "metadata": {
    "deletable": false,
    "editable": false
   },
   "source": [
    "Recall that for a test input, the neural network calculates probabilities for each possible target value (0 - 9), and then chooses the target value with highest probability. If the prediction is not correct, the correct target value may still have had a high probability. From the code below, what are the two digits with the highest probabilities? "
   ]
  },
  {
   "cell_type": "markdown",
   "metadata": {},
   "source": []
  },
  {
   "cell_type": "code",
   "execution_count": null,
   "metadata": {
    "deletable": false,
    "editable": false,
    "scrolled": true
   },
   "outputs": [],
   "source": [
    "p = mlp.predict_proba(X50)\n",
    "pd.DataFrame(p.round(3))"
   ]
  },
  {
   "cell_type": "markdown",
   "metadata": {
    "deletable": false,
    "editable": false
   },
   "source": [
    "### Question 6\n",
    "\n",
    "We can use cross validation to find the the optimal number of hidden nodes (and layers). Modify the code below to evaluate hidden layer sizes of 10, 30, 64, 100, and 200. by completing the \"FIX ME\" sections (Note: this may take 1-2 minutes to run). In addition, other parameters can be optimized such as the number of epochs and the learning rate (we will not worry about these now). Neural networks are considerably more complex than *kNN*."
   ]
  },
  {
   "cell_type": "code",
   "execution_count": null,
   "metadata": {
    "deletable": false,
    "editable": false
   },
   "outputs": [],
   "source": [
    "from sklearn.model_selection import KFold\n",
    "from sklearn.model_selection import cross_val_score\n",
    "\n",
    "# create an empty list to store accuracies\n",
    "acc = []\n",
    "\n",
    "# FIX ME: create 'sizes' list containing values 10, 30, 64, 100, and 200\n",
    "sizes = [10]\n",
    "\n",
    "# for each value of 'k', create a knn estimator and find the mean balanced accuracy using 10-fold cross validation\n",
    "for size in sizes :\n",
    "\n",
    "    print('training with size = ', size)\n",
    "    \n",
    "    # FIX ME: create kNN model (estimator) using the current size, and other arguments as below\n",
    "    mlp = MLPClassifier(max_iter=1000, verbose = False, random_state=211)\n",
    "    \n",
    "    # create the k = 5 folds\n",
    "    kfold = KFold(n_splits=5, random_state=99)\n",
    "    \n",
    "    # return an array of scores that contains the balanced accuracy for each fold\n",
    "    scores = cross_val_score(estimator = mlp, X = digits.data, y = digits.target, cv = kfold, scoring = \"balanced_accuracy\" )\n",
    "    print('\\tmean balanced accuracy with size = ', size, ': ', scores.mean(), sep = '')\n",
    "\n",
    "    # add the mean balanced accuracy for the current fold to the list\n",
    "    acc.append(scores.mean())"
   ]
  },
  {
   "cell_type": "markdown",
   "metadata": {
    "deletable": false,
    "editable": false
   },
   "source": [
    "### Question 7\n",
    "\n",
    "Generate a scatterplot showing the size of hidden layer on the x-axis and the balanced accuracy on the y-axis. Comment on the optimal size."
   ]
  },
  {
   "cell_type": "code",
   "execution_count": null,
   "metadata": {},
   "outputs": [],
   "source": []
  },
  {
   "cell_type": "markdown",
   "metadata": {
    "deletable": false,
    "editable": false
   },
   "source": [
    "### Question 8\n",
    "\n",
    "We can improve the neural network slightly by including two layers. Use 5-fold cross-validation to evaluate a multilayer perceptron with 2 hidden layers, that consist of 200 neurons and 10 neurons, respectively. Calculate the mean balanced accuracy."
   ]
  },
  {
   "cell_type": "code",
   "execution_count": null,
   "metadata": {},
   "outputs": [],
   "source": []
  }
 ],
 "metadata": {
  "kernelspec": {
   "display_name": "Python 3",
   "language": "python",
   "name": "python3"
  },
  "language_info": {
   "codemirror_mode": {
    "name": "ipython",
    "version": 3
   },
   "file_extension": ".py",
   "mimetype": "text/x-python",
   "name": "python",
   "nbconvert_exporter": "python",
   "pygments_lexer": "ipython3",
   "version": "3.6.7"
  }
 },
 "nbformat": 4,
 "nbformat_minor": 2
}
