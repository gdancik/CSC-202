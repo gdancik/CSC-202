{
 "cells": [
  {
   "cell_type": "markdown",
   "metadata": {},
   "source": [
    "# Speech Recognition\n",
    "\n",
    "The *SpeechRecognition* module can be used to convert speech to text, or text to speech. Note that the *PyAudio* module must also be installed to get audio from the microphone. Installation instructions can be found on the Course Info page of our course website.\n",
    "\n",
    "This Notebook demonstrates how *SpeechRecognition* can be used to convert speech to text, which you may choose to incorporate into the next project.\n",
    "\n",
    "The *recognize_google* method will use a default API key which should be sufficient for our needs."
   ]
  },
  {
   "cell_type": "code",
   "execution_count": null,
   "metadata": {
    "deletable": false,
    "editable": false
   },
   "outputs": [],
   "source": [
    "import speech_recognition as sr  \n",
    "\n",
    "# get audio from the microphone                                                                       \n",
    "r = sr.Recognizer()                                                                                   \n",
    "with sr.Microphone() as source:                                                                       \n",
    "    print(\"Speak:\")                                                                                   \n",
    "    audio = r.listen(source)   \n",
    "    \n",
    "# try to use Google's Speech Recognition API to convert audio to text,\n",
    "# catch and report errors if applicable\n",
    "try:\n",
    "    txt = r.recognize_google(audio)\n",
    "    print(\"You said:\", txt)\n",
    "except sr.UnknownValueError:\n",
    "    print(\"Could not understand audio\")\n",
    "except sr.RequestError as e:\n",
    "    print(\"Could not request results; {0}\".format(e))"
   ]
  },
  {
   "cell_type": "markdown",
   "metadata": {
    "deletable": false,
    "editable": false
   },
   "source": [
    "If *speechrecognition* cannot be used, uncomment the line below"
   ]
  },
  {
   "cell_type": "code",
   "execution_count": null,
   "metadata": {},
   "outputs": [],
   "source": [
    "#txt = 'Hi, my name is Garrett.'"
   ]
  },
  {
   "cell_type": "markdown",
   "metadata": {},
   "source": [
    "## Intents\n",
    "An *intent* is the intention (or purpose) of a message (block of text). Digital assistants and chatbots communicate by determining the *intent* of a message, and then responding appropriately. A relatively simple example is provided below. The chatbot can greet the user or tell the user today's date."
   ]
  },
  {
   "cell_type": "code",
   "execution_count": null,
   "metadata": {
    "deletable": false,
    "editable": false
   },
   "outputs": [],
   "source": [
    "# used to get today's date\n",
    "import datetime\n",
    "\n",
    "# create tuple of phrases and intents\n",
    "intentsList = [\n",
    "               ('my name is', 'NAME'),\n",
    "               (\"my name's\", 'NAME'),\n",
    "               (\"today's date\", 'DATE'),\n",
    "               ('day is it today', 'DATE')\n",
    "              ]\n",
    "\n",
    "# we assume that intent is not known until we can identify it\n",
    "intentUnknown = True\n",
    "\n",
    "# if a phrase is in the text, then respond using the appropriate intent\n",
    "for phrase, intent in intentsList :\n",
    "\n",
    "    # if the phrase is found, respond to its intent\n",
    "    if phrase in txt :\n",
    "        \n",
    "        # for name intent, get user's name and give a greeting\n",
    "        if intent == 'NAME' :\n",
    "            name = txt.split(phrase)[1]\n",
    "            name = name.strip()\n",
    "            print('Nice to meet you,', name)\n",
    "            intentUnknown = False\n",
    "            break\n",
    "        # for date intent, print out today's date\n",
    "        elif intent == 'DATE' :\n",
    "            now = datetime.datetime.now()\n",
    "            print ('Today is: ', now.strftime(\"%m-%d-%Y\"))\n",
    "            intentUnknown = False\n",
    "\n",
    "if intentUnknown :\n",
    "    print('You said:', txt)\n",
    "    print('I do not know what that means')\n",
    "    print()\n"
   ]
  },
  {
   "cell_type": "markdown",
   "metadata": {
    "deletable": false,
    "editable": false
   },
   "source": [
    "### Creating Digital Assistants\n",
    "\n",
    "The example above is a very simple example where *intents* are identified based on exact matches to text. For example, any text including 'my name is' corresponds to the 'NAME' intent; however, the intent will not be recognized if the user says 'You can call me Garrett'.\n",
    "\n",
    "In practice, machine learning such as neural networks are used to identify *intents* from a message, based on a set of training data that includes many examples of each inent. Next we will develop a simple Digital Assistant using IBM Watson Assistant (https://www.ibm.com/products/watson-assistant)"
   ]
  },
  {
   "cell_type": "code",
   "execution_count": null,
   "metadata": {},
   "outputs": [],
   "source": []
  }
 ],
 "metadata": {
  "kernelspec": {
   "display_name": "Python 3 (ipykernel)",
   "language": "python",
   "name": "python3"
  },
  "language_info": {
   "codemirror_mode": {
    "name": "ipython",
    "version": 3
   },
   "file_extension": ".py",
   "mimetype": "text/x-python",
   "name": "python",
   "nbconvert_exporter": "python",
   "pygments_lexer": "ipython3",
   "version": "3.9.7"
  }
 },
 "nbformat": 4,
 "nbformat_minor": 2
}
