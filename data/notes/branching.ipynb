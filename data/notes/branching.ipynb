{
 "cells": [
  {
   "cell_type": "markdown",
   "metadata": {
    "deletable": false,
    "editable": false
   },
   "source": [
    "# Boolean values and Branching"
   ]
  },
  {
   "cell_type": "markdown",
   "metadata": {
    "deletable": false,
    "editable": false
   },
   "source": [
    "## Boolean values\n",
    "\n",
    "One type of variable that we have not talked about yet is the *boolean* value, which is either *True* or *False*. In Python a variable can be set directly to ```True``` or ```False``` (note that the first character is capitalized). We can also use *boolean expressions* that evaluate to *True* or *False*, and can assign the result of a boolean expression to a varible."
   ]
  },
  {
   "cell_type": "code",
   "execution_count": null,
   "metadata": {
    "deletable": false,
    "editable": false
   },
   "outputs": [],
   "source": [
    "3 > 5"
   ]
  },
  {
   "cell_type": "code",
   "execution_count": null,
   "metadata": {
    "deletable": false,
    "editable": false
   },
   "outputs": [],
   "source": [
    "x = True\n",
    "x"
   ]
  },
  {
   "cell_type": "code",
   "execution_count": null,
   "metadata": {
    "deletable": false,
    "editable": false
   },
   "outputs": [],
   "source": [
    "x = 500\n",
    "bigNumber = x > 100\n",
    "bigNumber"
   ]
  },
  {
   "cell_type": "markdown",
   "metadata": {
    "deletable": false,
    "editable": false
   },
   "source": [
    "## Branching\n",
    "\n",
    "*Branching* is a programming concept where the execution of a program follows a particular path, based on one or more conditions. \n",
    "\n",
    "### if-else statements\n",
    "For example, consider the calculation for a worker's weekly gross pay, when the worker earns time-and-a-half for overtime (working more than 40 hours). In this case, we need to choose the correct formula based on whether or not the person has worked more than 40 hours.\n",
    "\n",
    "Pseudocode for the pay calculation is as follows:\n",
    "\n",
    "- If the person works more than 40 hours ($hours \\ge 40$), then\n",
    "\n",
    "    &nbsp;&nbsp;&nbsp;$pay = hours\\times rate$\n",
    "  \n",
    "  \n",
    "- otherwise, \n",
    "\n",
    "    $pay = 40\\times rate + 1.5\\times rate\\times(hours-40)$\n",
    "     \n",
    "This logic is implemented in *Python* using an *if-else* statement, and has the following form:\n",
    "\n",
    "```python\n",
    "if (condition) :\n",
    "      # statements to execute if condition is true\n",
    "else :\n",
    "     # statements to execute if condition is false\n",
    "```\n",
    "\n",
    "The code below calculates a person's weekly gross pay based on the specified *hours* and *rate* (hourly wage).\n",
    "When specifying *if-else* statements, you must place a colon after each condition or after the *else* clause. The colon marks the beginning of a code block (or *suite*), that contains one more more statements executed if the condition is *true*, or if the condition if *false*. "
   ]
  },
  {
   "cell_type": "code",
   "execution_count": null,
   "metadata": {
    "deletable": false,
    "editable": false
   },
   "outputs": [],
   "source": [
    "hours = 46.5\n",
    "rate = 10.50\n",
    "if hours <= 40 :\n",
    "    print('Using base formula, pay =  hours * rate')\n",
    "    pay = hours*rate\n",
    "else:\n",
    "    print('Using overtime formula')\n",
    "    pay = 40*rate + (hours-40)*1.5*rate\n",
    "    \n",
    "print()\n",
    "print('Weekly gross pay for ', hours, ' hours at $',rate, ' per hour: $', pay, sep = '')\n",
    "\n",
    "# Here we format the output using f-strings; for more information see \n",
    "# https://www.datacamp.com/community/tutorials/f-string-formatting-in-python\n",
    "print(f'Weekly gross pay for {hours} hours at ${rate:.2f} per hour: ${pay:.2f}')"
   ]
  },
  {
   "cell_type": "markdown",
   "metadata": {
    "deletable": false,
    "editable": false
   },
   "source": [
    "All statements within a *suite* must begin with the same number of spaces. What happens if you change the number of spaces before the first *print* statement?"
   ]
  },
  {
   "cell_type": "code",
   "execution_count": null,
   "metadata": {},
   "outputs": [],
   "source": [
    "hours = 46.5\n",
    "rate = 10.50\n",
    "if hours <= 40 :\n",
    "    print('Using base formula, pay =  hours * rate')\n",
    "    pay = hours*rate\n",
    "else:\n",
    "    print('Using overtime formula')\n",
    "    pay = 40*rate + (hours-40)*1.5*rate\n",
    "    \n",
    "print()\n",
    "print(f'Weekly gross pay for {hours} hours at ${rate:.2f} per hour: ${pay:.2f}')"
   ]
  },
  {
   "cell_type": "markdown",
   "metadata": {
    "deletable": false,
    "editable": false
   },
   "source": [
    "### Exercise\n",
    "The method *math.sqrt(x)* from the *math* module can be used to find the square root of a number.\n",
    "Complete the code below to find the square root of a number if it is non-negative (i.e., >= 0); otherwise\n",
    "output 'no real number solution'"
   ]
  },
  {
   "cell_type": "code",
   "execution_count": null,
   "metadata": {
    "deletable": false,
    "editable": false
   },
   "outputs": [],
   "source": [
    "import math\n",
    "math.sqrt(16)"
   ]
  },
  {
   "cell_type": "code",
   "execution_count": null,
   "metadata": {},
   "outputs": [],
   "source": [
    "x = 5\n",
    "print('The number is:', x)"
   ]
  },
  {
   "cell_type": "markdown",
   "metadata": {
    "deletable": false,
    "editable": false
   },
   "source": [
    "The *else* statement is optional, and should not be included if your code has the form:\n",
    "\n",
    "```python\n",
    "if (condition) :\n",
    "    # statements to execute if condition is true\n",
    "else :\n",
    "    # do nothing\n",
    "\n",
    "```\n",
    "For example, the code below sets *maxNum* to the maximum of *num1* and *num2*. "
   ]
  },
  {
   "cell_type": "code",
   "execution_count": null,
   "metadata": {
    "deletable": false,
    "editable": false
   },
   "outputs": [],
   "source": [
    "num1 = 13\n",
    "num2 = 35\n",
    "\n",
    "# set maxNum to num1\n",
    "maxNum = num1\n",
    "\n",
    "# if num2 is greater than num1, set maxNum to num2\n",
    "if num2 > num1 :\n",
    "     maxNum = num2\n",
    "\n",
    "# returning max number\n",
    "maxNum"
   ]
  },
  {
   "cell_type": "markdown",
   "metadata": {
    "deletable": false,
    "editable": false
   },
   "source": [
    "### if-elseif-else statements\n",
    "\n",
    "The *elif* clause can be used when there are 2 or more branches, and has the following form:\n",
    "    \n",
    "```python\n",
    "if (condition1) :\n",
    "      # statements to execute if condition1 is true\n",
    "elif (condition2) :\n",
    "     # statements to execute if condition2 is true (and all previous conditions are false)\n",
    "elif (condition3) :\n",
    "     # statements to execute if condition3 is true (and all previous conditions are false)\n",
    "elif (condition4) :\n",
    "     # statements to execute if condition4 is true (and all previous conditions are false)\n",
    "else :\n",
    "     # statements to execute if all previous conditions are false\n",
    "```\n",
    "\n",
    "Any number of *elif* statements can be specified after the *if* statement suite. The *else* statement is optional, but if included must be at the end. The code below uses the *if...elseif...else* construct to output whether a number is positive, negative, or zero. Note that `elif num == 0` could be used in place of the *else*.\n"
   ]
  },
  {
   "cell_type": "code",
   "execution_count": null,
   "metadata": {
    "deletable": false,
    "editable": false
   },
   "outputs": [],
   "source": [
    "num = int(input('Enter a number: '))\n",
    "if (num > 0) :\n",
    "    print('The number', num, 'is positive.')\n",
    "elif num < 0 :\n",
    "    print('The number', num, 'is negative.')\n",
    "else :\n",
    "    print('The number is zero.')"
   ]
  },
  {
   "cell_type": "markdown",
   "metadata": {
    "deletable": false,
    "editable": false
   },
   "source": [
    "## Equality and relational operators\n",
    "\n",
    "The relational operators are as follows:\n",
    "- a == b returns True if 'a' is greater than 'b'\n",
    "- a < b returns True if 'a' is less than 'b'\n",
    "- a <= b returns True if 'a' is less than 'b'\n",
    "- a > b returns True if 'a' is greater than 'b'\n",
    "- a >= b returns True if 'a' is greater than or equal to 'b'\n",
    "- a != b returns True if 'a' is not equal to 'b'\n",
    "\n",
    "It is important to always use `==` to test for equality (because a single equal sign is used for assignment)\n",
    "\n",
    "The above relational operators can be used for numbers and strings (comparison is alphabetical)."
   ]
  },
  {
   "cell_type": "code",
   "execution_count": null,
   "metadata": {
    "deletable": false,
    "editable": false
   },
   "outputs": [],
   "source": [
    "# use '==' to test whether x is equal to 4\n",
    "x = 4\n",
    "if x == 4:\n",
    "    print(\"x is equal to 4\")"
   ]
  },
  {
   "cell_type": "code",
   "execution_count": null,
   "metadata": {
    "deletable": false,
    "editable": false
   },
   "outputs": [],
   "source": [
    "# using a single equal sign will cause an error\n",
    "x = 4\n",
    "if x = 4:\n",
    "    print(\"x is equal to 4\")"
   ]
  },
  {
   "cell_type": "code",
   "execution_count": null,
   "metadata": {
    "deletable": false,
    "editable": false
   },
   "outputs": [],
   "source": [
    "# use '==' to test for equality among strings\n",
    "answer = input('What is the capital of CT? ')\n",
    "answer = answer.capitalize() # convert to proper format\n",
    "if answer == 'Hartford' :\n",
    "    print('Your answer is Correct!')\n",
    "else :\n",
    "    print('Wrong! The capital of CT is Hartford.')"
   ]
  },
  {
   "cell_type": "markdown",
   "metadata": {
    "deletable": false,
    "editable": false
   },
   "source": [
    "## Membership operators\n",
    "\n",
    "### The 'in' operator\n",
    "The ``in`` operator can be used to determine whether a value is present in a sequence. You can also use ``not in`` to check whether a value is *not in* a sequence."
   ]
  },
  {
   "cell_type": "code",
   "execution_count": null,
   "metadata": {
    "deletable": false,
    "editable": false
   },
   "outputs": [],
   "source": [
    "'hi' in ['word1', 'word2']  # checks if the item is in the list"
   ]
  },
  {
   "cell_type": "code",
   "execution_count": null,
   "metadata": {
    "deletable": false,
    "editable": false
   },
   "outputs": [],
   "source": [
    "'hi' not in ['word1', 'word2'] # checks if the item is not in the list"
   ]
  },
  {
   "cell_type": "code",
   "execution_count": null,
   "metadata": {
    "deletable": false,
    "editable": false
   },
   "outputs": [],
   "source": [
    "'he' in 'hello, how are you?'# checks whether a sequence of characters is in a string"
   ]
  },
  {
   "cell_type": "markdown",
   "metadata": {
    "deletable": false,
    "editable": false
   },
   "source": [
    "### Exercise \n",
    "\n",
    "Prompt the user to enter a letter, then output whether the letter entered is a vowel (a,e,i,o, or u). **Hint:** start by creating a list of vowels."
   ]
  },
  {
   "cell_type": "code",
   "execution_count": null,
   "metadata": {},
   "outputs": [],
   "source": []
  },
  {
   "cell_type": "markdown",
   "metadata": {
    "deletable": false,
    "editable": false
   },
   "source": [
    "## Identity operators\n",
    "### The 'is' operator\n",
    "\n",
    "The ``is`` operator is used to check whether the *identity* of one object is the the same as that of another. In other words, ``is`` is used to check if two variables are bound to the same object in memory. Never use ``is`` to compare the *value* of objects, because two variables may have the same value but reference different objects in memory."
   ]
  },
  {
   "cell_type": "code",
   "execution_count": null,
   "metadata": {
    "deletable": false,
    "editable": false
   },
   "outputs": [],
   "source": [
    "x = 20000\n",
    "y = 20000\n",
    "\n",
    "# x and y have the same value\n",
    "x == y"
   ]
  },
  {
   "cell_type": "code",
   "execution_count": null,
   "metadata": {
    "deletable": false,
    "editable": false
   },
   "outputs": [],
   "source": [
    "# but 'x' and 'y' reference different objects in memory\n",
    "x is y"
   ]
  },
  {
   "cell_type": "markdown",
   "metadata": {
    "deletable": false,
    "editable": false
   },
   "source": [
    "## Nested if-else statements\n",
    "\n",
    "A branch's statements can include any valid statements, including another *if-else* statement. When this happens, we say that the *if-else* statements are *nested*."
   ]
  },
  {
   "cell_type": "code",
   "execution_count": null,
   "metadata": {
    "deletable": false,
    "editable": false
   },
   "outputs": [],
   "source": [
    "print('This program will add two positive integers.')\n",
    "\n",
    "# prompt user to enter first positive integer\n",
    "num1 = int(input('Enter the first positive integer: '))\n",
    "print('The first number you entered is: ', num1)\n",
    "print()\n",
    "\n",
    "# if the first number is valid (i.e., is positive)\n",
    "if num1 > 0 :\n",
    "    # prompt user for second integer\n",
    "    num2 = int(input('Enter the second positive integer: '))\n",
    "    print('The second number you entered is: ', num2)\n",
    "    print()\n",
    "\n",
    "    # if the second number is valid (i.e., is positive)\n",
    "    if num2 > 0 :\n",
    "        print('The sum of', num1, 'and', num2, 'is: ', num1 + num2)\n",
    "    else :  # otherwise output error message\n",
    "        print('Error: the second number you entered is not valid.')       \n",
    "else : # otherwise output error message\n",
    "    print('Error: the first number you entered is not valid.')    "
   ]
  },
  {
   "cell_type": "code",
   "execution_count": null,
   "metadata": {},
   "outputs": [],
   "source": []
  }
 ],
 "metadata": {
  "kernelspec": {
   "display_name": "Python 3",
   "language": "python",
   "name": "python3"
  },
  "language_info": {
   "codemirror_mode": {
    "name": "ipython",
    "version": 3
   },
   "file_extension": ".py",
   "mimetype": "text/x-python",
   "name": "python",
   "nbconvert_exporter": "python",
   "pygments_lexer": "ipython3",
   "version": "3.6.7"
  }
 },
 "nbformat": 4,
 "nbformat_minor": 2
}
