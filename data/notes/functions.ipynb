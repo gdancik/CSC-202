{
 "cells": [
  {
   "cell_type": "markdown",
   "metadata": {
    "deletable": false,
    "editable": false
   },
   "source": [
    "# Functions"
   ]
  },
  {
   "cell_type": "markdown",
   "metadata": {
    "deletable": false,
    "editable": false
   },
   "source": [
    "## What is a Function?\n",
    "\n",
    "A *function* is a named set of statements that are executed when a function is *called*. Inputs may be passed to the function, and the function may return a value.\n",
    "\n",
    "Functions have the following form:\n",
    "\n",
    "```python\n",
    "def  functionName(parameter1, parameter2, ...) :\n",
    "    # statements to execute\n",
    "```\n",
    "\n",
    "The corresponding function call is as follows:\n",
    "```python\n",
    "functionName(argument1, argument2, ...)\n",
    "```\n",
    "\n",
    "When the function is called, the value of argument1 is passed to parameter1, the value of argument2 is passed to parameter2, and so on.\n",
    "\n",
    "Below is an example of a function that outputs information about a variable."
   ]
  },
  {
   "cell_type": "code",
   "execution_count": null,
   "metadata": {
    "deletable": false,
    "editable": false
   },
   "outputs": [],
   "source": [
    "# function to output the type and value of 'x'\n",
    "def describe(x) :\n",
    "    print('type:', type(x))\n",
    "    print('value:', x)"
   ]
  },
  {
   "cell_type": "code",
   "execution_count": null,
   "metadata": {
    "deletable": false,
    "editable": false
   },
   "outputs": [],
   "source": [
    "describe(4)"
   ]
  },
  {
   "cell_type": "code",
   "execution_count": null,
   "metadata": {
    "deletable": false,
    "editable": false
   },
   "outputs": [],
   "source": [
    "describe('hello')"
   ]
  },
  {
   "cell_type": "markdown",
   "metadata": {
    "deletable": false,
    "editable": false
   },
   "source": [
    "## Parameters\n",
    "\n",
    "When a function is called, its inputs (known as *arguments*) are passed to the *parameters* of the function that are defined in the function header. A parameter is used to store an input to a function.\n",
    "\n",
    "In the function definition below, *x* is a parameter:\n",
    "\n",
    "```python\n",
    "def describe(x) :\n",
    "    print('type:', type(x))\n",
    "    print('value:', x)\n",
    "```\n",
    "\n",
    "In the function call below, `4` is an argument:\n",
    "```python\n",
    "describe(4)\n",
    "```\n",
    "\n",
    "Functions can have multiple parameters, as in the function below."
   ]
  },
  {
   "cell_type": "code",
   "execution_count": null,
   "metadata": {
    "deletable": false,
    "editable": false
   },
   "outputs": [],
   "source": [
    "# prints a name using the format 'first last';\n",
    "# first and last are function parameters\n",
    "def printName(first, last) :\n",
    "    print(first, last)"
   ]
  },
  {
   "cell_type": "code",
   "execution_count": null,
   "metadata": {
    "deletable": false,
    "editable": false
   },
   "outputs": [],
   "source": [
    "printName('Amy', 'Stevens')"
   ]
  },
  {
   "cell_type": "markdown",
   "metadata": {
    "deletable": false,
    "editable": false
   },
   "source": [
    "### Exercise\n",
    "\n",
    "Write a function called printInfo that has three parameters, *first*, *last*, and *age*.\n",
    "\n",
    "Calling the function \n",
    "```python\n",
    "printInfo('Amy', 'Stevens', 20)\n",
    "```\n",
    "\n",
    "will output \n",
    "```\n",
    "Amy Stevens is 20 years old\n",
    "```"
   ]
  },
  {
   "cell_type": "code",
   "execution_count": null,
   "metadata": {},
   "outputs": [],
   "source": []
  },
  {
   "cell_type": "markdown",
   "metadata": {
    "deletable": false,
    "editable": false
   },
   "source": [
    "### Functions can return values ###\n",
    "\n",
    "A *return* statement is used to return a value from a function.\n",
    "\n",
    "The function below adds two numbers and returns the sum.\n"
   ]
  },
  {
   "cell_type": "code",
   "execution_count": null,
   "metadata": {
    "deletable": false,
    "editable": false
   },
   "outputs": [],
   "source": [
    "def add(x, y) :\n",
    "    return x + y"
   ]
  },
  {
   "cell_type": "markdown",
   "metadata": {
    "deletable": false,
    "editable": false
   },
   "source": [
    "When a function returns a value, it behaves like an *expression*, and the returned value takes the place of the function call."
   ]
  },
  {
   "cell_type": "code",
   "execution_count": null,
   "metadata": {
    "deletable": false,
    "editable": false
   },
   "outputs": [],
   "source": [
    "sum = add(5,7) # add will return the value of 12, which is assigned to the object 'sum'\n",
    "sum"
   ]
  },
  {
   "cell_type": "markdown",
   "metadata": {
    "deletable": false,
    "editable": false
   },
   "source": [
    "###  Dynamic typing\n",
    "\n",
    "*Dynamic typing* is a programming concept where an object's type is not determined until the program runs. This is in contrast to programs that use *static typing*, which is where an object's type must be explicitly defined.\n",
    "\n",
    "For example, Python uses\n",
    "\n",
    "```python\n",
    "x = 4  # a value of any type can be assigned to 'x'\n",
    "```\n",
    "\n",
    "and Java uses\n",
    "\n",
    "```java\n",
    "int x = 4; // only integers can be assigned to 'x'\n",
    "```\n",
    "\n",
    "Dynamic typing allows for more flexible behavior, but can lead to errors or unintended behavior when functions are not used correctly. In order to prevent this, a programmer can design a function so that it checks whether its arguments are of the intended type, though this is usually not done and is beyond the scope of this course.\n",
    "\n",
    "The concept of dynamic typing is illustrated in the examples below. The *add* function takes two inputs, and works for any type of object, as long as the two objects are the same type, because of the behavior of the plus (+) operator."
   ]
  },
  {
   "cell_type": "code",
   "execution_count": null,
   "metadata": {
    "deletable": false,
    "editable": false
   },
   "outputs": [],
   "source": [
    "# adds the numbers 5 and 7\n",
    "add(5,7) # for numbers, x + y will calculate the sum"
   ]
  },
  {
   "cell_type": "code",
   "execution_count": null,
   "metadata": {
    "deletable": false,
    "editable": false
   },
   "outputs": [],
   "source": [
    "# concatenates the strings 'hello' and 'world' (without a space)\n",
    "add('hello', 'world') # for strings, x + y will concatenate the strings"
   ]
  },
  {
   "cell_type": "code",
   "execution_count": null,
   "metadata": {
    "deletable": false,
    "editable": false
   },
   "outputs": [],
   "source": [
    "# appends the second list to the first list\n",
    "l1 = [1,2]\n",
    "l2 = ['a','b','c']\n",
    "add(l1,l2)   #for lists, x + y adds the second list elements to the end of the first list"
   ]
  },
  {
   "cell_type": "code",
   "execution_count": null,
   "metadata": {
    "deletable": false,
    "editable": false
   },
   "outputs": [],
   "source": [
    "# results in an error, because the plus (+) operator is not defined to combine strings and numbers\n",
    "add('hello', 4) # 'hello' + 4 will return an error"
   ]
  },
  {
   "cell_type": "markdown",
   "metadata": {
    "deletable": false,
    "editable": false
   },
   "source": [
    "## Why use functions?\n",
    "\n",
    "Functions make code more readable and allow for a modular design of code. Functions can be called as many times as necessary and also used across different programs (for example, *input* and *math.sqrt* are functions).\n",
    "\n",
    "For example, suppose we want to write a script that gets two positive integers from the user, then adds them together, and then prints the sum. \n",
    "\n",
    "The general *algorithm* for doing this is as follows:\n",
    "```python\n",
    "1. Get first positive integer from the user\n",
    "1. Get second positive integer from the user\n",
    "1. Add the numbers together\n",
    "1. output the result\n",
    "```\n",
    "Using a function for each step, this leads to the following design:\n",
    "```python\n",
    "1. num1 = getUserInput()\n",
    "2. num2 = getUserInput()\n",
    "3. sum = add(num1, num2)\n",
    "4. print(sum)\n",
    "```\n",
    "\n",
    "Note that for this problem, you could combine steps (3) and (4). You also don't need to use the *add* function to add two numbers, but the above approach works generally for more complicated calculations.\n",
    "\n",
    "The code for this is below, but you will need to complete the getUserInput function, which is currently a stub. A *stub* is a function that returns the correct type of value but is not complete. A stub therefore can be used as a placeholder while other code is developed.\n",
    "\n",
    "\n",
    "```python\n",
    "# example of a stub \n",
    "def getUserInput()\n",
    "    return 4\n",
    "```\n",
    "\n",
    "### Exercise\n",
    "Complete the code below so that *getUserInput* gets a positive integer from the user"
   ]
  },
  {
   "cell_type": "code",
   "execution_count": null,
   "metadata": {},
   "outputs": [],
   "source": [
    "# prompts the user with 'msg' and returns user input, which must be a positive integer\n",
    "def getUserInput(msg) :\n",
    "    # prompt user to enter a positive number (make sure number is positive)\n",
    "    # return the number\n",
    "    return 4"
   ]
  },
  {
   "cell_type": "code",
   "execution_count": null,
   "metadata": {
    "deletable": false,
    "editable": false
   },
   "outputs": [],
   "source": [
    "num1 = getUserInput('Please enter the first number:')\n",
    "num2 = getUserInput('Please enter the second number:')\n",
    "sum = add(num1,num2)\n",
    "print('The sum of', num1, 'and', num2, 'is', sum)"
   ]
  },
  {
   "cell_type": "markdown",
   "metadata": {
    "deletable": false,
    "editable": false
   },
   "source": [
    "### Exercise\n",
    "\n",
    "A leap year is a year that is divisible by 4, but if it is a century year (e.g., 1900, 2000), it must also be divisible by 400.\n",
    "\n",
    "Write a function called *is_leap_year* that has a single parameter for the year, and returns True if the year is a leap year, and False otherwise."
   ]
  },
  {
   "cell_type": "code",
   "execution_count": null,
   "metadata": {},
   "outputs": [],
   "source": [
    "# Complete the function to return True if 'x' is a leap year; or False otherwise\n",
    "def is_leap_year(x) :\n",
    "   pass"
   ]
  },
  {
   "cell_type": "markdown",
   "metadata": {},
   "source": [
    "Use a loop to iterate through the years in the list, and output the years which are leap years"
   ]
  },
  {
   "cell_type": "code",
   "execution_count": null,
   "metadata": {},
   "outputs": [],
   "source": [
    "years = list(range(1995, 2025))\n",
    "years"
   ]
  },
  {
   "cell_type": "markdown",
   "metadata": {
    "deletable": false,
    "editable": false
   },
   "source": [
    "## Scope\n",
    "\n",
    "The *scope* of a variable refers to where the variable exists (or is visible) in a program. The scope of a variable begins with the creation of the object assigned to it.\n",
    "\n",
    "- **Local variable:** if a variable is created inside of a function, or is a parameter of a function, we call it a *local variable* and its scope ends when the function definition ends (the variable does not exist outside of the function)\n",
    "- For variables created outside of functions, the scope ends when the variable is deleted (or the program ends)"
   ]
  },
  {
   "cell_type": "code",
   "execution_count": null,
   "metadata": {
    "deletable": false,
    "editable": false
   },
   "outputs": [],
   "source": [
    "def myfunction() :\n",
    "    my_variable = 'hello'\n",
    "    print('in the function, myvariable = ', my_variable)"
   ]
  },
  {
   "cell_type": "code",
   "execution_count": null,
   "metadata": {},
   "outputs": [],
   "source": [
    "myfunction()"
   ]
  },
  {
   "cell_type": "code",
   "execution_count": null,
   "metadata": {
    "deletable": false,
    "editable": false
   },
   "outputs": [],
   "source": [
    "# my_variable does not exist outside the function -- this will give you an error\n",
    "my_variable"
   ]
  },
  {
   "cell_type": "markdown",
   "metadata": {
    "deletable": false,
    "editable": false
   },
   "source": [
    "The above explanation applies even if a local variable has the same name as a variable used outside of a function."
   ]
  },
  {
   "cell_type": "code",
   "execution_count": null,
   "metadata": {
    "deletable": false,
    "editable": false
   },
   "outputs": [],
   "source": [
    "# in the function, x is a local variable; changing 'x' does not change 'x' outside of the function\n",
    "def myfunction() :\n",
    "    x = 5\n",
    "    print('in function, x =',x)\n",
    "\n",
    "x = 4\n",
    "print('before function, x = ', x)\n",
    "myfunction()\n",
    "print('after function, x = ', x)"
   ]
  },
  {
   "cell_type": "markdown",
   "metadata": {
    "deletable": false,
    "editable": false
   },
   "source": [
    "### Quick note regarding tuples\n",
    "\n",
    "When specifying a tuple, parentheses are optional, so\n",
    "```python\n",
    "1,2,3\n",
    "```\n",
    "\n",
    "is the same as\n",
    "```python\n",
    "(1,2,3)\n",
    "```"
   ]
  },
  {
   "cell_type": "code",
   "execution_count": null,
   "metadata": {
    "deletable": false,
    "editable": false
   },
   "outputs": [],
   "source": [
    "1,2,3 # this creates a tuple (1,2,3)"
   ]
  },
  {
   "cell_type": "markdown",
   "metadata": {},
   "source": [
    "### Additional notes\n",
    "\n",
    "- The body of a function can contain any valid code, including branches and loops\n",
    "- A function cannot directly return more than one value; however a function can return multiple values using a tuple or list\n",
    "\n",
    "For example, the code below returns two values entered by the user:"
   ]
  },
  {
   "cell_type": "code",
   "execution_count": null,
   "metadata": {},
   "outputs": [],
   "source": [
    "def getTwoNumbers() :\n",
    "    num1 = int(input('Enter the first number: '))\n",
    "    num2 = int(input('Enter the second number: '))\n",
    "    return num1, num2"
   ]
  },
  {
   "cell_type": "code",
   "execution_count": null,
   "metadata": {},
   "outputs": [],
   "source": [
    "# call function to get numbers, which are returned in a tuple\n",
    "numbers = getTwoNumbers()\n",
    "\n",
    "print()\n",
    "print('You entered the numbers: ', numbers)\n",
    "print('The first number you entered is: ', numbers[0])\n",
    "print('The second number you entered is: ', numbers[1])"
   ]
  },
  {
   "cell_type": "code",
   "execution_count": null,
   "metadata": {},
   "outputs": [],
   "source": []
  }
 ],
 "metadata": {
  "kernelspec": {
   "display_name": "Python 3",
   "language": "python",
   "name": "python3"
  },
  "language_info": {
   "codemirror_mode": {
    "name": "ipython",
    "version": 3
   },
   "file_extension": ".py",
   "mimetype": "text/x-python",
   "name": "python",
   "nbconvert_exporter": "python",
   "pygments_lexer": "ipython3",
   "version": "3.8.3"
  }
 },
 "nbformat": 4,
 "nbformat_minor": 2
}
