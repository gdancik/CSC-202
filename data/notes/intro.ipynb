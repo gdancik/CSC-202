{
 "cells": [
  {
   "cell_type": "markdown",
   "metadata": {
    "deletable": false,
    "editable": false
   },
   "source": [
    "# Quick Introduction to Python programming\n",
    "*Python* (https://www.python.org/) is a general purpose programming language commonly used in for data science and machine learning"
   ]
  },
  {
   "cell_type": "markdown",
   "metadata": {
    "deletable": false,
    "editable": false
   },
   "source": [
    "## Printing information to the screen\n",
    "\n",
    "### Print basics\n",
    "The *print()* function is used to output information to the screen"
   ]
  },
  {
   "cell_type": "code",
   "execution_count": null,
   "metadata": {
    "deletable": false,
    "editable": false,
    "scrolled": true
   },
   "outputs": [],
   "source": [
    "print('hello world!')"
   ]
  },
  {
   "cell_type": "code",
   "execution_count": null,
   "metadata": {},
   "outputs": [],
   "source": [
    "# can you print out your name?"
   ]
  },
  {
   "cell_type": "markdown",
   "metadata": {
    "deletable": false,
    "editable": false
   },
   "source": [
    "We can output multiple values using *print* by separating them by commas."
   ]
  },
  {
   "cell_type": "code",
   "execution_count": null,
   "metadata": {
    "deletable": false,
    "editable": false,
    "scrolled": true
   },
   "outputs": [],
   "source": [
    "x = 3 # assign the value of 3 to 'x'\n",
    "print('The value of x is:', x)"
   ]
  },
  {
   "cell_type": "markdown",
   "metadata": {
    "deletable": false,
    "editable": false
   },
   "source": [
    "### More printing options\n",
    "\n",
    "Additional values that can passed to the *print* function include:\n",
    "- *sep*: used to separate each objects\n",
    "- *end*: added to the end of the output"
   ]
  },
  {
   "cell_type": "code",
   "execution_count": null,
   "metadata": {
    "deletable": false,
    "editable": false
   },
   "outputs": [],
   "source": [
    "print('a', 'b', 'c', sep = '-')"
   ]
  },
  {
   "cell_type": "code",
   "execution_count": null,
   "metadata": {
    "deletable": false,
    "editable": false
   },
   "outputs": [],
   "source": [
    "# values are separated by spaces by default\n",
    "print('a', 'b', 'c')"
   ]
  },
  {
   "cell_type": "code",
   "execution_count": null,
   "metadata": {
    "deletable": false,
    "editable": false
   },
   "outputs": [],
   "source": [
    "# do not include a space between values\n",
    "print('a', 'b', 'c', sep = '')"
   ]
  },
  {
   "cell_type": "markdown",
   "metadata": {},
   "source": [
    "## Using variables to store information"
   ]
  },
  {
   "cell_type": "markdown",
   "metadata": {
    "deletable": false,
    "editable": false
   },
   "source": [
    "A *variable* is used to store the value of an object. Variables can take various forms:\n",
    "- a *int* stores an integer value\n",
    "- a *float* stores a decimal value\n",
    "- a *string* stores a sequence of characters\n",
    "- a *list* stores a list of objects (which do *not* have to be the same type)\n",
    "\n",
    "Any cell that ends with a variable or an expression will display the corresponding value in the notebook"
   ]
  },
  {
   "cell_type": "code",
   "execution_count": null,
   "metadata": {
    "deletable": false,
    "editable": false
   },
   "outputs": [],
   "source": [
    "num1 = 4   # store the integer 4 in the variable 'num1'\n",
    "num2 = 5   # store the integer 5 in the variable 'num2'\n",
    "num1 + num2"
   ]
  },
  {
   "cell_type": "code",
   "execution_count": null,
   "metadata": {
    "deletable": false,
    "editable": false
   },
   "outputs": [],
   "source": [
    "welcome = 'hello' # store the string 'hello' in the variable 'welcome'"
   ]
  },
  {
   "cell_type": "code",
   "execution_count": null,
   "metadata": {
    "deletable": false,
    "editable": false
   },
   "outputs": [],
   "source": [
    "words = ['hello', 'python', 'eastern'] # a list of strings\n",
    "words"
   ]
  },
  {
   "cell_type": "markdown",
   "metadata": {
    "deletable": false,
    "editable": false
   },
   "source": [
    "## Iterating over values in a list\n",
    "Often in programs we need to do something like the following:\n",
    "\n",
    "`for each element in a list :\n",
    "    do something with the element`\n",
    "\n",
    "This is straightforward in Python, as shown in the code below."
   ]
  },
  {
   "cell_type": "code",
   "execution_count": null,
   "metadata": {
    "deletable": false,
    "editable": false
   },
   "outputs": [],
   "source": [
    "print('The words are:')\n",
    "for w in words :\n",
    "    print(' ', w)"
   ]
  },
  {
   "cell_type": "markdown",
   "metadata": {
    "deletable": false,
    "editable": false
   },
   "source": [
    "## Natural language processing preview\n",
    "After learning fundamental programming concepts, and getting familiar with Python, we will use Python for data science and machine intelligence. The code below is a preview to our unit on *natural language processing*, where computers are used to analyze and extract meaningful information from text.\n",
    "\n",
    "We first download the text L. Frank Baum's *The Wonderful Wizard of Oz*, from [Project Gutenberg].(http://www.gutenberg.org/)"
   ]
  },
  {
   "cell_type": "code",
   "execution_count": null,
   "metadata": {
    "scrolled": true
   },
   "outputs": [],
   "source": [
    "import requests\n",
    "req = requests.get('https://www.gutenberg.org/files/55/old/55.txt')\n",
    "\n",
    "if req.status_code == 200 :\n",
    "    print(req.text)\n",
    "else :\n",
    "    print('Download unsuccessful. Try again.')"
   ]
  },
  {
   "cell_type": "code",
   "execution_count": null,
   "metadata": {
    "deletable": false,
    "editable": false,
    "scrolled": true
   },
   "outputs": [],
   "source": [
    "# process the text using the 'nlp' function from 'spacy'\n",
    "import spacy\n",
    "nlp = spacy.load('en_core_web_sm')\n",
    "doc = nlp(req.text)\n",
    "\n",
    "from spacy import displacy\n",
    "displacy.render(doc, style='ent')"
   ]
  },
  {
   "cell_type": "code",
   "execution_count": null,
   "metadata": {
    "deletable": false,
    "editable": false
   },
   "outputs": [],
   "source": [
    "# create a list of tokens that are identified as 'PERSON'\n",
    "people = [ent.text.lower().strip() for ent in doc.ents if ent.label_ == 'PERSON']\n",
    "\n",
    "# count the number of occurences for each 'person'\n",
    "from collections import Counter\n",
    "people_counts = Counter(people)\n",
    "\n",
    "for person, count in people_counts.most_common(10) :\n",
    "    print(person, ': ', count, sep = '')"
   ]
  },
  {
   "cell_type": "code",
   "execution_count": null,
   "metadata": {
    "deletable": false,
    "editable": false
   },
   "outputs": [],
   "source": [
    "from wordcloud import WordCloud\n",
    "wordcloud = WordCloud(background_color = 'lightblue').generate(str(req.text.lower()))\n",
    "wordcloud.to_image()"
   ]
  },
  {
   "cell_type": "code",
   "execution_count": null,
   "metadata": {},
   "outputs": [],
   "source": []
  }
 ],
 "metadata": {
  "kernelspec": {
   "display_name": "Python 3",
   "language": "python",
   "name": "python3"
  },
  "language_info": {
   "codemirror_mode": {
    "name": "ipython",
    "version": 3
   },
   "file_extension": ".py",
   "mimetype": "text/x-python",
   "name": "python",
   "nbconvert_exporter": "python",
   "pygments_lexer": "ipython3",
   "version": "3.8.3"
  }
 },
 "nbformat": 4,
 "nbformat_minor": 2
}
