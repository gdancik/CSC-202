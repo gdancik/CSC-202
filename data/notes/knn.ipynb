{
 "cells": [
  {
   "cell_type": "markdown",
   "metadata": {
    "deletable": false,
    "editable": false
   },
   "source": [
    "# K-Nearest Neighbors\n",
    "\n",
    "The *k-nearest neighbors* (*knn*) classification method predicts the *class* of a sample *x_new*, as follows:\n",
    "1. Calculate the distance between *x_new* and each training sample (for each training sample, its features and classe are known)\n",
    "1. Find the *k* nearest neighbors\n",
    "1. Assign *x_new* to the class that occurs most frequently among the *k* nearest neighbors\n",
    "\n",
    "In this classifier, _k_ is a *hyperparameter*, which is a parameter of the classifier that must be assigned by the user. \n",
    "\n",
    "Typically, odd values of _k_ are considered in order to break ties.\n",
    "\n",
    "We will use *scikit-learn* for classification and for loading sample datasets. We will start by loading the *iris* dataset, a 'famous' dataset, widely used to test classification methods. The iris dataset contains measurements for 3 species of the iris flower.\n",
    "\n",
    "## Loading and understanding the data\n"
   ]
  },
  {
   "cell_type": "code",
   "execution_count": null,
   "metadata": {
    "deletable": false,
    "editable": false
   },
   "outputs": [],
   "source": [
    "from sklearn import datasets\n",
    "iris = datasets.load_iris()\n",
    "\n",
    "print(iris.DESCR)"
   ]
  },
  {
   "cell_type": "code",
   "execution_count": null,
   "metadata": {
    "deletable": false,
    "editable": false
   },
   "outputs": [],
   "source": [
    "X = iris.data\n",
    "y = iris.target"
   ]
  },
  {
   "cell_type": "markdown",
   "metadata": {
    "deletable": false,
    "editable": false
   },
   "source": [
    "- The *data* contains the *features* (the _X_ values used for making predictions). \n",
    "- The *target* contains the class values (the labels or categories for each sample of *X*)\n",
    "- Both are stored as a *numpy* array, which is a collection of elements of the same type. \n",
    "    - if an array has one dimension, you can think of it as a list of values\n",
    "    - if an array has two dimensions, you can think of it as a table of values, with rows and columns\n",
    "    - arrays can have more then two dimensions"
   ]
  },
  {
   "cell_type": "markdown",
   "metadata": {
    "deletable": false,
    "editable": false
   },
   "source": [
    "The *shape* attribute of a *numpy* array returns the number of elements in each dimension. *X* has 150 rows and 4 columns:"
   ]
  },
  {
   "cell_type": "code",
   "execution_count": null,
   "metadata": {
    "deletable": false,
    "editable": false
   },
   "outputs": [],
   "source": [
    "X.shape"
   ]
  },
  {
   "cell_type": "markdown",
   "metadata": {
    "deletable": false,
    "editable": false
   },
   "source": [
    "*Y* has 150 rows:"
   ]
  },
  {
   "cell_type": "code",
   "execution_count": null,
   "metadata": {
    "deletable": false,
    "editable": false
   },
   "outputs": [],
   "source": [
    "y.shape"
   ]
  },
  {
   "cell_type": "markdown",
   "metadata": {
    "deletable": false,
    "editable": false
   },
   "source": [
    "Use the cell below to view X and y below:"
   ]
  },
  {
   "cell_type": "code",
   "execution_count": null,
   "metadata": {},
   "outputs": [],
   "source": []
  },
  {
   "cell_type": "markdown",
   "metadata": {
    "deletable": false,
    "editable": false
   },
   "source": [
    "Labels for the data are described in the following properties of the *iris* object:\n",
    "- *feature_names*:  the column names of the *data* which describe the features\n",
    "- *target_names*: labels corresonding to the integer values of the *target* "
   ]
  },
  {
   "cell_type": "code",
   "execution_count": null,
   "metadata": {
    "deletable": false,
    "editable": false
   },
   "outputs": [],
   "source": [
    "iris.feature_names"
   ]
  },
  {
   "cell_type": "code",
   "execution_count": null,
   "metadata": {
    "deletable": false,
    "editable": false
   },
   "outputs": [],
   "source": [
    "iris.target_names"
   ]
  },
  {
   "cell_type": "markdown",
   "metadata": {
    "deletable": false,
    "editable": false
   },
   "source": [
    "For clarity, let's make a data frame with labeled columns"
   ]
  },
  {
   "cell_type": "code",
   "execution_count": null,
   "metadata": {
    "deletable": false,
    "editable": false
   },
   "outputs": [],
   "source": [
    "import pandas as pd\n",
    "iris_df = pd.DataFrame(X, columns=iris.feature_names)\n",
    "iris_df"
   ]
  },
  {
   "cell_type": "markdown",
   "metadata": {
    "deletable": false,
    "editable": false
   },
   "source": [
    "So that our understanding of the data is clear, let's add the target to the data frame. This is straightforward, because we can treat a data frame as a dictionary where the *keys* are the columns. We then add a column the same way we add a key:value pair to a dictionary, where the value is a list. "
   ]
  },
  {
   "cell_type": "code",
   "execution_count": null,
   "metadata": {
    "deletable": false,
    "editable": false
   },
   "outputs": [],
   "source": [
    "iris_df['species'] = y\n",
    "iris_df"
   ]
  },
  {
   "cell_type": "markdown",
   "metadata": {
    "deletable": false,
    "editable": false
   },
   "source": [
    "## Visualizing the data \n",
    "\n",
    "We will use the *seaborn* module to generate a scatterplot of the data. A scatterplot is a plot of *x-* and *y-* values.\n",
    "- the *x* values are the sepal length (the first column of _X_, which has index 0), \n",
    "- the *y* values are the sepal width (the 2nd column of _X_, which has index 1)\n",
    "\n",
    "A *hue* can be specified to color the points, which will automatically add a legend."
   ]
  },
  {
   "cell_type": "code",
   "execution_count": null,
   "metadata": {
    "deletable": false,
    "editable": false
   },
   "outputs": [],
   "source": [
    "import seaborn as sns\n",
    "s = sns.scatterplot(x = X[:,0], y = X[:,1], hue = y)\n",
    "s.set(xlabel = 'Sepal length', ylabel = 'Sepal width', title = 'Sepal length vs. sepal width for 3 iris species')\n",
    "None"
   ]
  },
  {
   "cell_type": "markdown",
   "metadata": {
    "deletable": false,
    "editable": false
   },
   "source": [
    "\n",
    "\n",
    "\n",
    "\n",
    "\n",
    "\n",
    "\n",
    "\n",
    "\n",
    "\n",
    "\n",
    "\n",
    "\n",
    "\n",
    "\n"
   ]
  },
  {
   "cell_type": "markdown",
   "metadata": {
    "deletable": false,
    "editable": false
   },
   "source": [
    "## K-nearest neighbors\n",
    "\n",
    "Scikit-learn provides a simple framework for working with classifiers (which *scikit-learn* calls *estimators*), that involves 3 basic steps:\n",
    "\n",
    "1. Create an estimator or *model*, such as a *KNeighborsClassifier*\n",
    "1. Train the model using *model.train()*\n",
    "1. Make predictions using *model.predict()*"
   ]
  },
  {
   "cell_type": "markdown",
   "metadata": {
    "deletable": false,
    "editable": false
   },
   "source": [
    "### Create a KNN classifier\n",
    "\n",
    "Note that you need to specify the value of the hyperparameter here. We use *k = 3*."
   ]
  },
  {
   "cell_type": "code",
   "execution_count": null,
   "metadata": {
    "deletable": false,
    "editable": false
   },
   "outputs": [],
   "source": [
    "from sklearn.neighbors import KNeighborsClassifier\n",
    "knn = KNeighborsClassifier(n_neighbors=3)\n",
    "knn"
   ]
  },
  {
   "cell_type": "markdown",
   "metadata": {
    "deletable": false,
    "editable": false
   },
   "source": [
    "### Train the classifier\n",
    "\n",
    "In general this step has the form\n",
    "\n",
    "```python\n",
    "model.fit(X_train,y_train)\n",
    "```\n",
    "\n",
    "where \n",
    "- *model* is a model such as one obtained by KNeighborsClassifier\n",
    "- *X_train* is an array of features for the training data, with rows corresponding to samples and columns corresponding to features\n",
    "- *y_ train* is an array of class labels corresponding to each row of *X_train*"
   ]
  },
  {
   "cell_type": "code",
   "execution_count": null,
   "metadata": {
    "deletable": false,
    "editable": false
   },
   "outputs": [],
   "source": [
    "# fit the model using our complete data X and y\n",
    "knn.fit(X,y)"
   ]
  },
  {
   "cell_type": "markdown",
   "metadata": {
    "deletable": false,
    "editable": false
   },
   "source": [
    "### Use the classifier to make predictions\n",
    "\n",
    "Make predictions using\n",
    "\n",
    "```python\n",
    "model.predict(xnew)\n",
    "```\n",
    "where \n",
    "*xnew* is a 2-dimensional array that contains the features for the new samples.\n",
    "\n",
    "In the example below, we are predicting the species for a flower with the following measurements:\n",
    "- sepal length: 6 cm\n",
    "- sepal widht: 2 cm\n",
    "- petal length: 4.9 cm\n",
    "- petal width: 1.5 cm\n",
    "\n",
    "This flower is predicted to have a value of 1 (*versicolor*)"
   ]
  },
  {
   "cell_type": "code",
   "execution_count": null,
   "metadata": {
    "deletable": false,
    "editable": false
   },
   "outputs": [],
   "source": [
    "import numpy as np\n",
    "xnew = np.array(  [  [6, 2, 4.9, 1.5] ] )\n",
    "\n",
    "# make the prediction\n",
    "knn.predict(xnew)"
   ]
  },
  {
   "cell_type": "markdown",
   "metadata": {
    "deletable": false,
    "editable": false
   },
   "source": [
    "## Using training and testing datasets\n",
    "\n",
    "When evaluating a model, it is critical that you have both *training* data and *testing* data. The training and testing data sets should be independent -- we want to evaluate how well a classifier performs on data that is has not seen previously. If a testing data set is not used, we will not know if the classifier is *overfitting* the data. Overfitting occurs when a classifier works really well on the training dataset but performs poorly on new data.\n",
    "\n",
    "Scikit-learn makes it easy to split a single data set into a training and testing sets, by providing the function\n",
    "\n",
    "```python\n",
    "train_test_split(X,y, test_size, random_state)\n",
    "```\n",
    "\n",
    "where\n",
    "\n",
    "- *X* is a matrix containing the feature data\n",
    "- *y* is the corresponding matrix containing the class labels\n",
    "- *test_size* is the proportion of data to reserve for testing\n",
    "- *random_state* is the random number seed; set this so results will be reproducible\n",
    "- *statify* is a list of values to stratify by (value will be balanced in training and testing datasets)\n",
    "\n",
    "The function returns a tuple of the form\n",
    "```python\n",
    "(X_train, X_test, y_train, y_test)\n",
    "```\n",
    "that contains the training and testing data for *X* and _y_.\n",
    "\n",
    "Note that we *stratify* by the class label, to ensure that our datasets are balanced.\n",
    "\n",
    "### Split the data into training and testing sets"
   ]
  },
  {
   "cell_type": "code",
   "execution_count": null,
   "metadata": {},
   "outputs": [],
   "source": [
    "from sklearn.model_selection import train_test_split\n",
    "X_train, X_test, y_train, y_test = train_test_split(X, y, test_size=0.33, random_state=99, stratify = y)"
   ]
  },
  {
   "cell_type": "markdown",
   "metadata": {
    "deletable": false,
    "editable": false
   },
   "source": [
    "We want our data to be balanced with respect to the classes. For example, if there were very few *setosa* samples in the training set, the classifier would probably not do well on these in the test dataset. In this case the dataset is balanced (50 observations for each species), and the random sampling results in test and and training sets that are relatively balanced, as seen below:"
   ]
  },
  {
   "cell_type": "code",
   "execution_count": null,
   "metadata": {
    "deletable": false,
    "editable": false
   },
   "outputs": [],
   "source": [
    "# user a Counter to see how many of each class we have in the training dataset\n",
    "from collections import Counter\n",
    "print('Balance of training set: ', Counter(y_train))\n",
    "print('Balance of testing set: ', Counter(y_test))"
   ]
  },
  {
   "cell_type": "markdown",
   "metadata": {
    "deletable": false,
    "editable": false
   },
   "source": [
    "### Fit the model"
   ]
  },
  {
   "cell_type": "code",
   "execution_count": null,
   "metadata": {
    "deletable": false,
    "editable": false
   },
   "outputs": [],
   "source": [
    "knn.fit(X_train, y_train)"
   ]
  },
  {
   "cell_type": "markdown",
   "metadata": {
    "deletable": false,
    "editable": false
   },
   "source": [
    "### Make predictions in the *test* dataset"
   ]
  },
  {
   "cell_type": "code",
   "execution_count": null,
   "metadata": {
    "deletable": false,
    "editable": false
   },
   "outputs": [],
   "source": [
    "pred = knn.predict(X_test)"
   ]
  },
  {
   "cell_type": "markdown",
   "metadata": {
    "deletable": false,
    "editable": false
   },
   "source": [
    "### Evaluate the results by generating a *classification report*  which calculates various performance measures\n",
    "\n",
    "Using *scikit-learn*, we can generate a *classification report* that contains commonly used performance measures\n",
    "\n",
    "The *classification_report* function takes the true classes from the test data, the predicted values, and optionally the target names. The columns are defined below:\n",
    "\n",
    "- precision: The proportion of predicted values that are classified correctly\n",
    "- recall: The proportion of values for a class that have been classified correctly\n",
    "- F1 score: the harmonic mean of precision and recall\n",
    "- support: the number of samples for each group"
   ]
  },
  {
   "cell_type": "code",
   "execution_count": null,
   "metadata": {
    "deletable": false,
    "editable": false
   },
   "outputs": [],
   "source": [
    "from sklearn.metrics import classification_report\n",
    "report = classification_report(y_test, pred, target_names = iris.target_names)\n",
    "print(report)"
   ]
  },
  {
   "cell_type": "markdown",
   "metadata": {
    "deletable": false,
    "editable": false
   },
   "source": [
    "## Evaluate the results by looking at the *confusion matrix*\n",
    "\n",
    "A *confusion matrix* is a matrix that shows how the observations in each row (each class) were classified (corresponding to each column). As the name implies, confusion matrices are useful for identifying areas where the classifier may be \"confused\" (i.e., where it consistently misclassifies a particular category)"
   ]
  },
  {
   "cell_type": "code",
   "execution_count": null,
   "metadata": {
    "deletable": false,
    "editable": false
   },
   "outputs": [],
   "source": [
    "from sklearn.metrics import confusion_matrix\n",
    "confusion = confusion_matrix(y_true = y_test, y_pred = pred)\n",
    "confusion"
   ]
  },
  {
   "cell_type": "markdown",
   "metadata": {
    "deletable": false,
    "editable": false
   },
   "source": [
    "Let's create a data frame so that we can label the rows and columns "
   ]
  },
  {
   "cell_type": "code",
   "execution_count": null,
   "metadata": {
    "deletable": false,
    "editable": false
   },
   "outputs": [],
   "source": [
    "import pandas as pd\n",
    "confusion_df = pd.DataFrame(confusion, columns=iris.target_names, index=iris.target_names)\n",
    "confusion_df"
   ]
  },
  {
   "cell_type": "markdown",
   "metadata": {
    "deletable": false,
    "editable": false
   },
   "source": [
    "We can visualize the heatmap using the seaborn *heatmap* function"
   ]
  },
  {
   "cell_type": "code",
   "execution_count": null,
   "metadata": {
    "deletable": false,
    "editable": false
   },
   "outputs": [],
   "source": [
    "import matplotlib.pyplot as plt\n",
    "sns.heatmap(confusion_df, annot = True, cmap = 'nipy_spectral_r')\n",
    "plt.ylabel('True Value')\n",
    "plt.xlabel('Predicted Value')\n",
    "None"
   ]
  },
  {
   "cell_type": "code",
   "execution_count": null,
   "metadata": {},
   "outputs": [],
   "source": []
  }
 ],
 "metadata": {
  "kernelspec": {
   "display_name": "Python 3",
   "language": "python",
   "name": "python3"
  },
  "language_info": {
   "codemirror_mode": {
    "name": "ipython",
    "version": 3
   },
   "file_extension": ".py",
   "mimetype": "text/x-python",
   "name": "python",
   "nbconvert_exporter": "python",
   "pygments_lexer": "ipython3",
   "version": "3.8.3"
  }
 },
 "nbformat": 4,
 "nbformat_minor": 2
}
