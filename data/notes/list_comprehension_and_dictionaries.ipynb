{
 "cells": [
  {
   "cell_type": "markdown",
   "metadata": {
    "deletable": false,
    "editable": false
   },
   "source": [
    "# List comprehension and dictionaries"
   ]
  },
  {
   "cell_type": "markdown",
   "metadata": {
    "deletable": false,
    "editable": false
   },
   "source": [
    "A common programming goal is to create a new list by changing each element of an existing list. For example, we may want to take a list of numbers and create a new list containing the *square* of each number.\n",
    "\n",
    "The tradional approach in Python would be the following:\n",
    "\n",
    "```python\n",
    "\n",
    "# list of numbers\n",
    "numbers = [1,2,3,4]  \n",
    "\n",
    "# create an empty list to hold the squared numbers\n",
    "squares = []\n",
    "\n",
    "# iterate though each number in the list\n",
    "for num in numbers :\n",
    "    # add the squared number to the list\n",
    "    squares.append(num**2)\n",
    "```\n",
    "\n",
    "*List comphrehension* provides a shortcut for constructing lists, following mathematical *set-builder* notation:\n",
    "```python\n",
    "\n",
    "# list of numbers\n",
    "numbers = [1,2,3,4]\n",
    "\n",
    "# create a list of squared numbers using list comprehension\n",
    "squares = [num**2 for num in numbers]\n",
    "```"
   ]
  },
  {
   "cell_type": "code",
   "execution_count": null,
   "metadata": {
    "deletable": false,
    "editable": false
   },
   "outputs": [],
   "source": [
    "# list of numbers\n",
    "numbers = [1,2,3,4]\n",
    "\n",
    "# create a list of squared numbers using list comprehension\n",
    "squares = [num**2 for num in numbers]\n",
    "\n",
    "# display result\n",
    "squares"
   ]
  },
  {
   "cell_type": "markdown",
   "metadata": {
    "deletable": false,
    "editable": false
   },
   "source": [
    "### Exercise\n",
    "Use list comprehension to create a new list of words where each word is lower case. Recall that for a string stored in _s_, we can return a lower case version of the string using *s.lower()*."
   ]
  },
  {
   "cell_type": "code",
   "execution_count": null,
   "metadata": {
    "deletable": false,
    "editable": false
   },
   "outputs": [],
   "source": [
    "words = ['Intro to Machine Intelligence', 'Computer Science', 'Eastern Connecticut State University']\n",
    "words"
   ]
  },
  {
   "cell_type": "code",
   "execution_count": null,
   "metadata": {},
   "outputs": [],
   "source": [
    "# use list comprehension to get a list of the lowercase strings in 'words'\n"
   ]
  },
  {
   "cell_type": "markdown",
   "metadata": {
    "deletable": false,
    "editable": false
   },
   "source": [
    "Write a function that takes a string as an input and returns the number of words in the string."
   ]
  },
  {
   "cell_type": "code",
   "execution_count": null,
   "metadata": {},
   "outputs": [],
   "source": []
  },
  {
   "cell_type": "markdown",
   "metadata": {
    "deletable": false,
    "editable": false
   },
   "source": [
    "Use list comprehension to create a new list that contains the number of words in each string in the *words* list"
   ]
  },
  {
   "cell_type": "code",
   "execution_count": null,
   "metadata": {},
   "outputs": [],
   "source": []
  },
  {
   "cell_type": "markdown",
   "metadata": {
    "deletable": false,
    "editable": false
   },
   "source": [
    "Use list comprehension to create a list of tuples where each tuple contains 2 elements, the string and its length."
   ]
  },
  {
   "cell_type": "code",
   "execution_count": null,
   "metadata": {},
   "outputs": [],
   "source": []
  },
  {
   "cell_type": "markdown",
   "metadata": {
    "deletable": false,
    "editable": false
   },
   "source": [
    "*List comphrehension* allows us to construct a list where an element is only added if a condition is True. For example, the code below creates a list of squared numbers, if the number is greater than or equal to 3.\n",
    "```python\n",
    "\n",
    "# list of numbers\n",
    "numbers = [1,2,3,4]\n",
    "\n",
    "# create a list of squared numbers using list comprehension\n",
    "squares = [num**2 for num in numbers if num >= 3]\n",
    "```"
   ]
  },
  {
   "cell_type": "markdown",
   "metadata": {
    "deletable": false,
    "editable": false
   },
   "source": [
    "### Exercise\n",
    "Create a list of words that are more than 3 characters long, using the 'words' list below."
   ]
  },
  {
   "cell_type": "code",
   "execution_count": null,
   "metadata": {
    "deletable": false,
    "editable": false
   },
   "outputs": [],
   "source": [
    "# create a word list by splitting the sample sentence\n",
    "words = 'This is a sample sentence'.split()\n",
    "words"
   ]
  },
  {
   "cell_type": "code",
   "execution_count": null,
   "metadata": {},
   "outputs": [],
   "source": [
    "# Use list comprehension to create a list of words that are more than 3 characters long\n"
   ]
  },
  {
   "cell_type": "markdown",
   "metadata": {
    "deletable": false,
    "editable": false
   },
   "source": [
    "## Dictionaries store key-value pairs\n",
    "\n",
    "A dictionary provides a way to store key-value pairs, such as words and definitions, though this need not be the interpretation. With a dictionary, you can look up a *key* and get its *value*.\n",
    "\n",
    "The format for creating a dictionary is\n",
    "```python\n",
    "dictionaryName = {Key1: Value1, Key2: Value2, ...}\n",
    "```\n",
    "You can then look up a key in the dictionary using bracket notation:\n",
    "```\n",
    "dictionaryName[Key1]\n",
    "```\n",
    "will return 'Value1'.\n",
    "\n",
    "In a dictionary, a *key* must be immutable (e.g., a string, tuple, or number) while the value can be any object (e.g., list, string, number, etc)"
   ]
  },
  {
   "cell_type": "code",
   "execution_count": null,
   "metadata": {
    "deletable": false,
    "editable": false
   },
   "outputs": [],
   "source": [
    "# example dictionary to look up faculty and get their e-mail addresses\n",
    "email = {'Dancik': 'dancikg@easternct.edu', \n",
    "         'Tasneem': 'TasneemS@easternct.edu',\n",
    "         'Rosiene': 'RosieneJ@easternct.edu',\n",
    "         'Tu': 'tuH@easternct.edu',\n",
    "         'Lin': 'LINJ@easternct.edu'}\n",
    "\n",
    "\n",
    "print('Dictionary: ')\n",
    "print(email)\n",
    "print()\n",
    "print()\n",
    "print('Please e-mail Dr. Dancik at ' + email['Dancik'])\n"
   ]
  },
  {
   "cell_type": "markdown",
   "metadata": {},
   "source": [
    "You can use *dictionaryName.keys()* to get a list of keys from a dictionary, and *dictionaryName.values()* to get a list of values."
   ]
  },
  {
   "cell_type": "code",
   "execution_count": null,
   "metadata": {
    "deletable": false,
    "editable": false
   },
   "outputs": [],
   "source": [
    "email.keys()"
   ]
  },
  {
   "cell_type": "code",
   "execution_count": null,
   "metadata": {
    "deletable": false,
    "editable": false
   },
   "outputs": [],
   "source": [
    "email.values()"
   ]
  },
  {
   "cell_type": "markdown",
   "metadata": {},
   "source": [
    "You can add a value to a dictionary by using\n",
    "```python\n",
    "dict[new_key] = new_value\n",
    "```"
   ]
  },
  {
   "cell_type": "code",
   "execution_count": null,
   "metadata": {
    "deletable": false,
    "editable": false
   },
   "outputs": [],
   "source": [
    "# Let's add Dr. Gao\n",
    "email['Gao'] = \"GaoK@easternct.edu\" \n",
    "email.keys()"
   ]
  },
  {
   "cell_type": "markdown",
   "metadata": {},
   "source": [
    "Looking up a key in a dictionary that does not exist will result in an error:"
   ]
  },
  {
   "cell_type": "code",
   "execution_count": null,
   "metadata": {
    "deletable": false,
    "editable": false
   },
   "outputs": [],
   "source": [
    "email['Smith']"
   ]
  },
  {
   "cell_type": "markdown",
   "metadata": {},
   "source": [
    "To prevent this, one option is to check that the key exists:"
   ]
  },
  {
   "cell_type": "code",
   "execution_count": null,
   "metadata": {
    "deletable": false,
    "editable": false
   },
   "outputs": [],
   "source": [
    "name = input('Enter a last name: ')\n",
    "if name in email :\n",
    "    print(name, ': ', email[name], sep = '')\n",
    "else :\n",
    "    print(name, 'is not in the dictionary')\n",
    "print()"
   ]
  },
  {
   "cell_type": "markdown",
   "metadata": {},
   "source": [
    "Another option is to use the *get* method, which allows you to specify a default return value if a key is not in the dictionary."
   ]
  },
  {
   "cell_type": "code",
   "execution_count": null,
   "metadata": {
    "deletable": false,
    "editable": false
   },
   "outputs": [],
   "source": [
    "print(\"Dancik:\", email.get(\"Dancik\", \"E-mail Not Found\"))\n",
    "print(\"Smith:\", email.get(\"Smith\", \"E-mail Not Found\"))"
   ]
  },
  {
   "cell_type": "markdown",
   "metadata": {},
   "source": [
    "### Iterating through a dictionary\n",
    "\n",
    "To iterate through each key in a dictionary, use the following:\n",
    "\n",
    "```python\n",
    "for key in dictionary :\n",
    "    # statements to execute for each key\n",
    "```"
   ]
  },
  {
   "cell_type": "code",
   "execution_count": null,
   "metadata": {
    "deletable": false,
    "editable": false
   },
   "outputs": [],
   "source": [
    "for key in email :\n",
    "    print(key, ': ',  email[key], sep = '')"
   ]
  },
  {
   "cell_type": "markdown",
   "metadata": {
    "deletable": false,
    "editable": false
   },
   "source": [
    "The dict.items() method returns a list of tuples containing (key,value) pairs\n",
    "\n",
    "```python\n",
    "for key,value in dictionary :\n",
    "    # statements to execute for each key,value\n",
    "```"
   ]
  },
  {
   "cell_type": "code",
   "execution_count": null,
   "metadata": {
    "deletable": false,
    "editable": false
   },
   "outputs": [],
   "source": [
    "for key,value in email.items() :\n",
    "    print(key, ': ', value, sep = '')"
   ]
  }
 ],
 "metadata": {
  "kernelspec": {
   "display_name": "Python 3",
   "language": "python",
   "name": "python3"
  },
  "language_info": {
   "codemirror_mode": {
    "name": "ipython",
    "version": 3
   },
   "file_extension": ".py",
   "mimetype": "text/x-python",
   "name": "python",
   "nbconvert_exporter": "python",
   "pygments_lexer": "ipython3",
   "version": "3.8.3"
  }
 },
 "nbformat": 4,
 "nbformat_minor": 2
}
