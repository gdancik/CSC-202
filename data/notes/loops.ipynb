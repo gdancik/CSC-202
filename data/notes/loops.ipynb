{
 "cells": [
  {
   "cell_type": "markdown",
   "metadata": {},
   "source": [
    "# Loops"
   ]
  },
  {
   "cell_type": "markdown",
   "metadata": {
    "deletable": false,
    "editable": false
   },
   "source": [
    "A *loop* is a programming construct that allows you to repeat a block (or suite) of code multiple times. There are general uses for loops:\n",
    "\n",
    "- to repeat a block of code while a condition is true (*while* loop)\n",
    "    - example: prompt the user to enter a number, and repeat if the number entered is not valid (e.g., is not in the correct range)\n",
    "- repeat a procedure for each element in a sequence (*for* loop)\n",
    "    - example: find the length of each word in a list of words\n",
    "- repeat a procedure a specific number of times (*for* loop with *range* function)\n",
    "    - example: allow the user to enter 3 numbers\n",
    "\n",
    "## *while* loops ##\n",
    "\n",
    "A *while* loop specifies statements to repeat while a condition is true, and has the form\n",
    "\n",
    "```python\n",
    "while condition :\n",
    "    # statements to repeat while condition is true\n",
    "```"
   ]
  },
  {
   "cell_type": "code",
   "execution_count": null,
   "metadata": {
    "deletable": false,
    "editable": false
   },
   "outputs": [],
   "source": [
    "# Continue to get a number from a user as long as non-negative number is entered\n",
    "# (equivalently, Continue to get a number from a user until a negative number is entered)\n",
    "\n",
    "num = 0\n",
    "while num >= 0 :\n",
    "    num = int(input('Enter a positive integer, or enter a negative number to end: '))\n",
    "    print('You entered:', num)\n",
    "\n",
    "print()\n",
    "print('Thanks for playing!')"
   ]
  },
  {
   "cell_type": "code",
   "execution_count": null,
   "metadata": {
    "deletable": false,
    "editable": false
   },
   "outputs": [],
   "source": [
    "# prompt the user to enter their age, which is required to be a non-negative number\n",
    "age = -1\n",
    "while age < 0 :\n",
    "    age = int(input('Please enter your age: '))\n",
    "    if age < 0 :\n",
    "        print('Age cannot be negative')\n",
    "\n",
    "print('Thank you, you entered your age as:', age)"
   ]
  },
  {
   "cell_type": "markdown",
   "metadata": {
    "deletable": false,
    "editable": false
   },
   "source": [
    "## *for* loops\n",
    "\n",
    "*For* loops are used when you want to *iterate* over each element in a sequence or a container. *For* loops have the syntax:\n",
    "\n",
    "```python\n",
    "for item in sequence :\n",
    "    # statements to execute for each item in the sequence\n",
    "```\n",
    "\n",
    "When the sequence is a string, iteration occurs character by character. "
   ]
  },
  {
   "cell_type": "code",
   "execution_count": null,
   "metadata": {
    "deletable": false,
    "editable": false
   },
   "outputs": [],
   "source": [
    "greeting = 'hello, class'\n",
    "for ch in greeting :\n",
    "    print(ch)"
   ]
  },
  {
   "cell_type": "markdown",
   "metadata": {
    "deletable": false,
    "editable": false
   },
   "source": [
    "### Exercise ###\n",
    "\n",
    "Modify the code below to count the number of characters in the sentence, not including spaces or commas"
   ]
  },
  {
   "cell_type": "code",
   "execution_count": null,
   "metadata": {},
   "outputs": [],
   "source": [
    "greeting = 'hello, class'\n",
    "for ch in greeting :\n",
    "    print(ch)"
   ]
  },
  {
   "cell_type": "markdown",
   "metadata": {
    "deletable": false,
    "editable": false
   },
   "source": [
    "When the sequence is a list, iteration will be over each element."
   ]
  },
  {
   "cell_type": "code",
   "execution_count": null,
   "metadata": {
    "deletable": false,
    "editable": false
   },
   "outputs": [],
   "source": [
    "words = ['book', 'school', 'computer', 'program']\n",
    "for w in words :\n",
    "    print(w)"
   ]
  },
  {
   "cell_type": "markdown",
   "metadata": {
    "deletable": false,
    "editable": false
   },
   "source": [
    "### Exercise\n",
    "\n",
    "Write code that will output each word in the 'words' list, as well as its length."
   ]
  },
  {
   "cell_type": "code",
   "execution_count": null,
   "metadata": {},
   "outputs": [],
   "source": [
    "words = ['book', 'school', 'computer', 'program']\n",
    "for w in words :\n",
    "    print(w)"
   ]
  },
  {
   "cell_type": "markdown",
   "metadata": {
    "deletable": false,
    "editable": false
   },
   "source": [
    "## Using *for* loops with the *range* function to iterate a fixed number of times"
   ]
  },
  {
   "cell_type": "markdown",
   "metadata": {
    "deletable": false,
    "editable": false
   },
   "source": [
    "The *range* function creates a range of integers between two values:\n",
    "- `range(n)` creates a range of $n$ values from $0, 1, 2, ...n-1$\n",
    "- `range(a,b)` creates a range of values from $a$ up to but not including $b$\n",
    "\n",
    "The *range* function returns a special range object, which is usually used directly in the *for* loop header; however it can be converted into a list as in the example below."
   ]
  },
  {
   "cell_type": "code",
   "execution_count": null,
   "metadata": {
    "deletable": false,
    "editable": false
   },
   "outputs": [],
   "source": [
    "# create and view a range object, storing 10 values (0 - 9)\n",
    "r = range(10)\n",
    "list(r)"
   ]
  },
  {
   "cell_type": "code",
   "execution_count": null,
   "metadata": {
    "deletable": false,
    "editable": false
   },
   "outputs": [],
   "source": [
    "len(r)"
   ]
  },
  {
   "cell_type": "markdown",
   "metadata": {
    "deletable": false,
    "editable": false
   },
   "source": [
    "Therefore, if we want to repeat something $n$ times, we can use a *for* loop with the form:\n",
    "\n",
    "```python\n",
    "for i in range(n) :\n",
    "    # statements to repeat each time\n",
    "```"
   ]
  },
  {
   "cell_type": "code",
   "execution_count": null,
   "metadata": {
    "deletable": false,
    "editable": false
   },
   "outputs": [],
   "source": [
    "for i in range(10) :\n",
    "    print(i)"
   ]
  },
  {
   "cell_type": "code",
   "execution_count": null,
   "metadata": {
    "deletable": false,
    "editable": false
   },
   "outputs": [],
   "source": [
    "for i in range(1000) :\n",
    "    print(i)"
   ]
  },
  {
   "cell_type": "markdown",
   "metadata": {
    "deletable": false,
    "editable": false
   },
   "source": [
    "The *range* function can be used in a *for* loop in order to get $n$ inputs from the user, as in the code below. Here, the user enters 3 numbers, which are stored in a list."
   ]
  },
  {
   "cell_type": "code",
   "execution_count": null,
   "metadata": {
    "deletable": false,
    "editable": false,
    "scrolled": true
   },
   "outputs": [],
   "source": [
    "# create an empty list\n",
    "numbers = []\n",
    "print('Enter 3 integers, one per line:')\n",
    "\n",
    "# get integer from the user, and add to the list\n",
    "for i in range(3) :    \n",
    "    num = int(input())\n",
    "    numbers.append(num)\n",
    "\n",
    "print()\n",
    "print('The numbers are:', numbers)"
   ]
  },
  {
   "cell_type": "markdown",
   "metadata": {
    "deletable": false,
    "editable": false
   },
   "source": [
    "## Unpacking ##\n",
    "\n",
    "Python allows you to simultaneously assign each value of a sequence (or container) to multiple variables. This process is known as *unpacking*. For example, in the code below, we can assign the 3 elements in the list to the variables `x`, `y`, and `z`."
   ]
  },
  {
   "cell_type": "code",
   "execution_count": null,
   "metadata": {
    "deletable": false,
    "editable": false
   },
   "outputs": [],
   "source": [
    "l = [1,2,3]\n",
    "x,y,z = l\n",
    "\n",
    "print('x = ', x)\n",
    "print('y = ', y)\n",
    "print('z = ', z)"
   ]
  },
  {
   "cell_type": "markdown",
   "metadata": {
    "deletable": false,
    "editable": false
   },
   "source": [
    "## Enumerating \n",
    "The *enumerate* function allows you to get a collection of (index,value) pairs (tuples) from a sequence or container. The *enumerate* function is typically used with a *for* loop, where the tuples are *unpacked* to iterate through the index and value of each element in a collection. "
   ]
  },
  {
   "cell_type": "code",
   "execution_count": null,
   "metadata": {
    "deletable": false,
    "editable": false
   },
   "outputs": [],
   "source": [
    "words = ['book', 'school', 'computer', 'program']\n",
    "for i, w in enumerate(words) :\n",
    "    print('word at index', i, 'is', w)"
   ]
  },
  {
   "cell_type": "markdown",
   "metadata": {
    "deletable": false,
    "editable": false
   },
   "source": [
    "## Zipping\n",
    "\n",
    "The *zip* function allows you to simulatenously look at the values of multiple sequences (or containers). This is useful if there is a relationship between sequences. For example, this would be useful if one list contains first names and a second list contained last names, and the $i^{th}$ element of each list corresponded to the same person. The *zip* function returns a sequence of tuples where each tuple has the form \n",
    "\n",
    "```(element1 of sequence1, element1 of sequence2, etc)```\n",
    "\n",
    "The *zip* function is typically used with a for loop, where sequences are zipped in order to iterate through the values of multiple sequences simultaneously.\n",
    "\n"
   ]
  },
  {
   "cell_type": "code",
   "execution_count": null,
   "metadata": {
    "deletable": false,
    "editable": false
   },
   "outputs": [],
   "source": [
    "courseList = ['CSC 202', 'CSC 210', 'CSC 249']\n",
    "courseNameList = ['Intro to Machine Intelligence', 'Computer Science and Programming I', 'Visual Basic']\n",
    "\n",
    "for course, name in zip(courseList, courseNameList) :\n",
    "    print(course, ': ', name, sep = '')"
   ]
  },
  {
   "cell_type": "markdown",
   "metadata": {
    "deletable": false,
    "editable": false
   },
   "source": [
    "### Exercise \n",
    "\n",
    "Write code that uses the courseList and courseNameLists above, and asks the user to enter a course number. Your code then iterates through each list and outputs the course name of the specified course number. If the course number is not found, output a message indicating that the course was not found."
   ]
  },
  {
   "cell_type": "code",
   "execution_count": null,
   "metadata": {},
   "outputs": [],
   "source": []
  }
 ],
 "metadata": {
  "kernelspec": {
   "display_name": "Python 3",
   "language": "python",
   "name": "python3"
  },
  "language_info": {
   "codemirror_mode": {
    "name": "ipython",
    "version": 3
   },
   "file_extension": ".py",
   "mimetype": "text/x-python",
   "name": "python",
   "nbconvert_exporter": "python",
   "pygments_lexer": "ipython3",
   "version": "3.8.3"
  }
 },
 "nbformat": 4,
 "nbformat_minor": 2
}
