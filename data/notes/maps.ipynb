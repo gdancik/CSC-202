{
 "cells": [
  {
   "cell_type": "markdown",
   "metadata": {
    "deletable": false,
    "editable": false
   },
   "source": [
    "# Constructing maps with *folium*\n",
    "\n",
    "Python's *folium* module can be used for visualizing data on an interactive map: \n",
    "https://python-visualization.github.io/folium/"
   ]
  },
  {
   "cell_type": "markdown",
   "metadata": {
    "deletable": false,
    "editable": false
   },
   "source": [
    "The *folium.Map* method can be used to generate a map with the following arguments:\n",
    "- *location*: a list containing the Latitude and Longitude\n",
    "- *zoom_start*: the initial zoom level, defaulting to 10\n",
    "- *width*: the width of the map, specifies in pixels (as an int) or as a percentage (as a string); defaults to '100%'\n",
    "- *tiles*: the default tiling used, defaults to 'OpenStreetMap'; for examples see https://deparkes.co.uk/2016/06/10/folium-map-tiles/\n",
    "\n",
    "\n",
    "Let's construct a map centered at Eastern (Latitude = 41.722, Longitude = -72.22)"
   ]
  },
  {
   "cell_type": "code",
   "execution_count": null,
   "metadata": {
    "deletable": false,
    "editable": false
   },
   "outputs": [],
   "source": [
    "import folium\n",
    "map = folium.Map(location=[41.722, -72.22],\n",
    "                zoom_start = 10, width = '80%', height = '80%')"
   ]
  },
  {
   "cell_type": "code",
   "execution_count": null,
   "metadata": {
    "deletable": false,
    "editable": false
   },
   "outputs": [],
   "source": [
    "map"
   ]
  },
  {
   "cell_type": "markdown",
   "metadata": {
    "deletable": false,
    "editable": false
   },
   "source": [
    "We can create a map marker using *folium.Marker*, which must include a location of the form _[Latitude, Longitude]_. Optionally we can also specify:\n",
    "- *popup*: text to display when the user clicks on the marker\n",
    "- *tooltip*: text to display when the user hovers over the marker\n",
    "- *icon*: a *folium.Icon*, that includes a color and optionally an *icon* name, such as 'home' or 'info-sign'.\n",
    "\n",
    "\n",
    "You can also use icons from Font Awesome (https://fontawesome.com/icons?d=gallery) (need to set prefix = 'fa') or Glyph Icons (https://getbootstrap.com/docs/3.3/components/#glyphicons-glyphs) (need to set prefix = 'glyphicon')."
   ]
  },
  {
   "cell_type": "code",
   "execution_count": null,
   "metadata": {
    "deletable": false,
    "editable": false
   },
   "outputs": [],
   "source": [
    "# create map marker\n",
    "marker = folium.Marker([41.722, -72.22], popup='Eastern Connecticut State University', \n",
    "              tooltip='ECSU', \n",
    "              icon=folium.Icon(color='red'))\n",
    "\n",
    "# add map marker\n",
    "marker.add_to(map)"
   ]
  },
  {
   "cell_type": "code",
   "execution_count": null,
   "metadata": {
    "deletable": false,
    "editable": false
   },
   "outputs": [],
   "source": [
    "# display map\n",
    "map"
   ]
  },
  {
   "cell_type": "markdown",
   "metadata": {
    "deletable": false,
    "editable": false
   },
   "source": [
    "### Exercise\n",
    "\n",
    "The latitude and longitude of Cafemantic is 41.71,-72.219. Add a green marker for Cafemantic whose icon is 'coffee'. Since this is a *font-awesome* icon, you must set prefix = 'fa'"
   ]
  },
  {
   "cell_type": "code",
   "execution_count": null,
   "metadata": {},
   "outputs": [],
   "source": []
  },
  {
   "cell_type": "markdown",
   "metadata": {
    "deletable": false,
    "editable": false
   },
   "source": [
    "# Looking up latitude and longitude using the Bing Maps (Virtual Earth) API\n",
    "\n",
    "In order to use Bing Maps API, you will need to create a Bing Maps key through https://docs.microsoft.com/en-us/bingmaps/getting-started/bing-maps-dev-center-help/getting-a-bing-maps-key, and will need to add your key to the *credentials.py* file, which must be in the same directory as this Notebook. \n",
    "\n",
    "When you create an application, select the following:\n",
    "- Key type: Basic\n",
    "- Application type: Windows application"
   ]
  },
  {
   "cell_type": "code",
   "execution_count": null,
   "metadata": {
    "deletable": false,
    "editable": false
   },
   "outputs": [],
   "source": [
    "# import packages\n",
    "import requests\n",
    "import credentials\n",
    "import json\n",
    "from urllib.parse import quote"
   ]
  },
  {
   "cell_type": "code",
   "execution_count": null,
   "metadata": {
    "deletable": false,
    "editable": false
   },
   "outputs": [],
   "source": [
    "# function to geocode (return latitude and longitude) based on location\n",
    "def geocode(query, key) :    \n",
    "    url = 'http://dev.virtualearth.net/REST/v1/Locations?query=' + quote(query) + '&maxResults=1&key=' + key\n",
    "    #print(url)\n",
    "    r = requests.get(url)\n",
    "    if (r.status_code != 200) :        \n",
    "        print('Error connecting to BING maps API')\n",
    "        return None\n",
    "    try :\n",
    "        j = json.loads(r.text)\n",
    "        geo = j['resourceSets'][0]['resources'][0]['point']['coordinates']\n",
    "    except :\n",
    "        print('Error: Query is not in correct format', query)\n",
    "        return None    \n",
    "    return geo"
   ]
  },
  {
   "cell_type": "code",
   "execution_count": null,
   "metadata": {
    "deletable": false,
    "editable": false
   },
   "outputs": [],
   "source": [
    "g = geocode('Boston, MA', credentials.BING_MAPS_KEY)\n",
    "g"
   ]
  },
  {
   "cell_type": "markdown",
   "metadata": {
    "deletable": false,
    "editable": false
   },
   "source": [
    "Let's add some markers to the map, by first getting the latitude and longitude for each city, state."
   ]
  },
  {
   "cell_type": "code",
   "execution_count": null,
   "metadata": {
    "deletable": false,
    "editable": false
   },
   "outputs": [],
   "source": [
    "# list of locations\n",
    "locations = ['Boston, MA', 'Hartford, CT', 'Albany, NY']\n",
    "\n",
    "# for each location \n",
    "for l in locations :\n",
    "    \n",
    "    # get geocode\n",
    "    g = geocode(l, credentials.BING_MAPS_KEY)\n",
    "    \n",
    "    # if geocode is valid, add marker\n",
    "    if g :\n",
    "        marker = folium.Marker(g, popup=l, tooltip=l, \n",
    "              icon=folium.Icon(color='green'))\n",
    "        marker.add_to(map)"
   ]
  },
  {
   "cell_type": "code",
   "execution_count": null,
   "metadata": {
    "deletable": false,
    "editable": false
   },
   "outputs": [],
   "source": [
    "# display map\n",
    "map"
   ]
  },
  {
   "cell_type": "code",
   "execution_count": null,
   "metadata": {},
   "outputs": [],
   "source": []
  }
 ],
 "metadata": {
  "kernelspec": {
   "display_name": "Python 3",
   "language": "python",
   "name": "python3"
  },
  "language_info": {
   "codemirror_mode": {
    "name": "ipython",
    "version": 3
   },
   "file_extension": ".py",
   "mimetype": "text/x-python",
   "name": "python",
   "nbconvert_exporter": "python",
   "pygments_lexer": "ipython3",
   "version": "3.8.3"
  }
 },
 "nbformat": 4,
 "nbformat_minor": 2
}
