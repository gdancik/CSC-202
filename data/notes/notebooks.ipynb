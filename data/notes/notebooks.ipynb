{
 "cells": [
  {
   "cell_type": "markdown",
   "metadata": {
    "deletable": false,
    "editable": false
   },
   "source": [
    "# Notebook basics"
   ]
  },
  {
   "cell_type": "markdown",
   "metadata": {
    "deletable": false,
    "editable": false
   },
   "source": [
    "Each section of a notebook is called a *cell*, which can contain either *Markdown* or *Code*\n",
    "\n",
    "Markdown is a markup language that allows you to format text.\n",
    "\n",
    "For examples of how markdown can be used, view the markdown cells below."
   ]
  },
  {
   "cell_type": "markdown",
   "metadata": {
    "deletable": false,
    "editable": false
   },
   "source": [
    "# This is a large heading\n",
    "\n",
    "## This is a slightly smaller heading\n",
    "\n",
    "### This is an even smaller heading"
   ]
  },
  {
   "cell_type": "markdown",
   "metadata": {
    "deletable": false,
    "editable": false
   },
   "source": [
    "Surrounding text in asterisks will *display that text in italics.*\n",
    "\n",
    "Surrounding text in double asterisks will **display that text in bold.**"
   ]
  },
  {
   "cell_type": "markdown",
   "metadata": {
    "deletable": false,
    "editable": false
   },
   "source": [
    "Surrounding text in backticks will `display that text as code.`\n",
    "\n",
    "Surround code in triple ticks to create a code block; optionally, specify the language after the first set of tick marks to display the code using syntax highlighting: \n",
    "\n",
    "```python\n",
    "print('hello world!')\n",
    "```"
   ]
  },
  {
   "cell_type": "markdown",
   "metadata": {
    "deletable": false,
    "editable": false
   },
   "source": [
    "To create a list, simply precede each line with a dash:\n",
    "- first line\n",
    "- second line"
   ]
  },
  {
   "cell_type": "markdown",
   "metadata": {
    "deletable": false,
    "editable": false
   },
   "source": [
    "For more information, see the following cheat sheet: https://www.markdownguide.org/cheat-sheet/"
   ]
  },
  {
   "cell_type": "markdown",
   "metadata": {
    "deletable": false,
    "editable": false
   },
   "source": [
    "## Exercise\n",
    "\n",
    "Create a markdown cell below this one that includes your name using a large heading, followed by an example of printing the word 'hi' in Python, formatted as code. Then add a *code* cell and write a statement that outputs 'hi' in Python."
   ]
  },
  {
   "cell_type": "markdown",
   "metadata": {
    "deletable": false,
    "editable": false
   },
   "source": [
    "## Saving Jupyter Notebooks\n",
    "\n",
    "Jupyter will automatically save your notebook when the notebook is modified. \n",
    "\n",
    "In addition, you can create a *checkpoint* by selecting *File --> Save and Checkpoint* from the file menu. This will create a checkpoint that you can return to later by clicking *File --> Revert to Checkpoint*. Only the last manually saved checkpoint can be reverted to. \n",
    "\n",
    "I generally do not worry about checkpionts; however this framework allows you to work with two versions of your notebook: a saved version that you can revert to at any time, and the current version which might contain changes that get automatically saved."
   ]
  },
  {
   "cell_type": "code",
   "execution_count": null,
   "metadata": {},
   "outputs": [],
   "source": []
  }
 ],
 "metadata": {
  "kernelspec": {
   "display_name": "Python 3 (ipykernel)",
   "language": "python",
   "name": "python3"
  },
  "language_info": {
   "codemirror_mode": {
    "name": "ipython",
    "version": 3
   },
   "file_extension": ".py",
   "mimetype": "text/x-python",
   "name": "python",
   "nbconvert_exporter": "python",
   "pygments_lexer": "ipython3",
   "version": "3.8.3"
  }
 },
 "nbformat": 4,
 "nbformat_minor": 2
}
