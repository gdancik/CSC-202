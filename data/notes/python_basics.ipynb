{
 "cells": [
  {
   "cell_type": "markdown",
   "metadata": {},
   "source": [
    "# Basics: algorithms, variables, input, and expressions"
   ]
  },
  {
   "cell_type": "markdown",
   "metadata": {},
   "source": [
    "## Algorithms\n",
    "\n",
    "An *algorithm* is a set of instructions for solving a problem. When writing code, the instructions will need to be understood by the computer. A good rule of thumb is that your algorithm should be simple enough that a 5-year old can understand each step."
   ]
  },
  {
   "cell_type": "markdown",
   "metadata": {},
   "source": [
    "### Example\n",
    "\n",
    "I want to determine who is older, Joe or Donna.\n",
    "\n",
    "1. Get Joe's age (store in *age1*)\n",
    "2. Get Donna's age (store in *age2*)\n",
    "3. If *age1* > *age2* :\n",
    "\n",
    "        Output that Joe is older        \n",
    "   Otherwise:\n",
    "   \n",
    "       Output that Donna is older\n",
    "       \n",
    "We will see the code for this at the end of this notebook. First note that when we get the ages, we need to store/remember them. This is accomplished using *variables*."
   ]
  },
  {
   "cell_type": "markdown",
   "metadata": {
    "deletable": false,
    "editable": false
   },
   "source": [
    "## Variable basics\n",
    "A variable is a named item used to store a value (or values). In Python you assign a value to a variable as follows:\n",
    "\n",
    "```python\n",
    "variable_name = value\n",
    "```\n",
    "\n",
    "Variable names (which are known as identifiers) must start with a letter or underscore (_\\), otherwise can contain letters, underscores, or numbers, and should be descriptive. However, Python has several *reserved keywords* (these are words that already have a special meaning in Python) and these should not be used as a variable name. For example, *print* is a reserved keyword and should not be used as a variable name. \n",
    "### Finding the type of a variable\n",
    "\n",
    "The *type* function can be used to determine the type of a variable."
   ]
  },
  {
   "cell_type": "code",
   "execution_count": null,
   "metadata": {
    "deletable": false,
    "editable": false
   },
   "outputs": [],
   "source": [
    "x = 4\n",
    "type(x)"
   ]
  },
  {
   "cell_type": "code",
   "execution_count": null,
   "metadata": {
    "deletable": false,
    "editable": false
   },
   "outputs": [],
   "source": [
    "y = 4.4\n",
    "type(y)"
   ]
  },
  {
   "cell_type": "code",
   "execution_count": null,
   "metadata": {
    "deletable": false,
    "editable": false
   },
   "outputs": [],
   "source": [
    "welcome = \"hello\"\n",
    "type(welcome)"
   ]
  },
  {
   "cell_type": "code",
   "execution_count": null,
   "metadata": {
    "deletable": false,
    "editable": false
   },
   "outputs": [],
   "source": [
    "words = ['hello', 'goodbye']\n",
    "type(words)"
   ]
  },
  {
   "cell_type": "markdown",
   "metadata": {
    "deletable": false,
    "editable": false
   },
   "source": [
    "### A variable references a location in memory where its value is stored\n",
    "The *id()* function can be used to get the value of an object's *identity*. The identity is a number, guaranteed to be unique for each object in memory; we can think of the *id* as corresponding to a location in memory. __Note:__ the *id()* function is seldom used in real code, but we use it here for teaching purposes."
   ]
  },
  {
   "cell_type": "markdown",
   "metadata": {
    "deletable": false,
    "editable": false
   },
   "source": [
    "First we see that *x* and *y* refer to different values in memory."
   ]
  },
  {
   "cell_type": "code",
   "execution_count": null,
   "metadata": {
    "deletable": false,
    "editable": false
   },
   "outputs": [],
   "source": [
    "x = 4\n",
    "id(x)"
   ]
  },
  {
   "cell_type": "code",
   "execution_count": null,
   "metadata": {
    "deletable": false,
    "editable": false
   },
   "outputs": [],
   "source": [
    "y = 5\n",
    "id(y)"
   ]
  },
  {
   "cell_type": "markdown",
   "metadata": {},
   "source": [
    "If primitive variables have the same value, they may have the same id. Here, both *x* and *z* point to the same location in memory, which stores the number 4."
   ]
  },
  {
   "cell_type": "code",
   "execution_count": null,
   "metadata": {
    "deletable": false,
    "editable": false,
    "scrolled": true
   },
   "outputs": [],
   "source": [
    "z = 4\n",
    "print(\"x has the value of\", x, \"and an id of: \", id(x))\n",
    "print(\"z has the value of\", z, \"and an id of: \", id(z))"
   ]
  },
  {
   "cell_type": "markdown",
   "metadata": {
    "deletable": false,
    "editable": false
   },
   "source": [
    "If we change the value of *z*, its value will change, and it now points to a different location in memory than *x*"
   ]
  },
  {
   "cell_type": "code",
   "execution_count": null,
   "metadata": {
    "deletable": false,
    "editable": false
   },
   "outputs": [],
   "source": [
    "z = z + 1\n",
    "print(\"x has the value of\", x, \"and an id of: \", id(x))\n",
    "print(\"z has the value of\", z, \"and an id of: \", id(z))"
   ]
  },
  {
   "cell_type": "markdown",
   "metadata": {
    "deletable": false,
    "editable": false
   },
   "source": [
    "## User input"
   ]
  },
  {
   "cell_type": "markdown",
   "metadata": {
    "deletable": false,
    "editable": false
   },
   "source": [
    "The *input()* function is used to get input from the user through the keyboard. Note that *input()* always returns a string."
   ]
  },
  {
   "cell_type": "code",
   "execution_count": null,
   "metadata": {
    "deletable": false,
    "editable": false
   },
   "outputs": [],
   "source": [
    "x = input(\"Enter a number: \")\n",
    "print('x is of type: ', type(x))"
   ]
  },
  {
   "cell_type": "code",
   "execution_count": null,
   "metadata": {
    "deletable": false,
    "editable": false
   },
   "outputs": [],
   "source": [
    "x"
   ]
  },
  {
   "cell_type": "markdown",
   "metadata": {
    "deletable": false,
    "editable": false
   },
   "source": [
    "Since *x* is a string, the code below will give an error."
   ]
  },
  {
   "cell_type": "code",
   "execution_count": null,
   "metadata": {
    "deletable": false,
    "editable": false
   },
   "outputs": [],
   "source": [
    "x + 5"
   ]
  },
  {
   "cell_type": "markdown",
   "metadata": {
    "deletable": false,
    "editable": false
   },
   "source": [
    "### Typecasting\n",
    "\n",
    "We can convert a variable from one type to another by *casting* it using one of the functions below:\n",
    "\n",
    "- *int(x)* converts the variable 'x' to an int\n",
    "- *float(x)* converts the variable 'x' to a float\n",
    "- *str(x)* converts the variable 'x' to a string\n",
    "\n",
    "__Note:__ The conversion will raise an error if it is invalid, e.g., ``int('hi')`` will raise an error. *Error handing* is outside the scope of this course but is discussed in CSC 203."
   ]
  },
  {
   "cell_type": "code",
   "execution_count": null,
   "metadata": {
    "deletable": false,
    "editable": false
   },
   "outputs": [],
   "source": [
    "x = int(x)\n",
    "x + 5"
   ]
  },
  {
   "cell_type": "markdown",
   "metadata": {
    "deletable": false,
    "editable": false
   },
   "source": [
    "We often directly cast the result from the *input* function to the desired type (in this case, an *int*)"
   ]
  },
  {
   "cell_type": "code",
   "execution_count": null,
   "metadata": {
    "deletable": false,
    "editable": false
   },
   "outputs": [],
   "source": [
    "x = int(input('Enter a number: '))\n",
    "print('x is of type: ', type(x))"
   ]
  },
  {
   "cell_type": "markdown",
   "metadata": {
    "deletable": false,
    "editable": false
   },
   "source": [
    "__Exercise:__ Prompt the user to enter their first name, which is stored in the variable *first*; then prompt the user to enter their last name, which is stored in *last*. Then output a welcome message using the person's full name. For example, if the user enters 'Amy' and 'Thompson', then your code should output: 'Hello, Amy Thompson'."
   ]
  },
  {
   "cell_type": "code",
   "execution_count": null,
   "metadata": {},
   "outputs": [],
   "source": []
  },
  {
   "cell_type": "markdown",
   "metadata": {
    "deletable": false,
    "editable": false
   },
   "source": [
    "## Arithmetic expressions\n",
    "   \n",
    "- Addition: *x + y* will add the values *x* and *y*\n",
    "- Subtraction: *x - y* will subtract *y* from *x*\n",
    "- Multiplication: *x * y* will multiply *x* and *y*\n",
    "- Division: *x / y* will divide *x* by *y*\n",
    "- Integer division *x // y* returns the integer portion of *x / y *\n",
    "- Exponentiate: *x\\*\\*y* will raise *x* to the power of *y*\n",
    "- Modulo: *x % y* will return the remainder when integer *x* is divided by integer *y*."
   ]
  },
  {
   "cell_type": "code",
   "execution_count": null,
   "metadata": {
    "deletable": false,
    "editable": false
   },
   "outputs": [],
   "source": [
    "print('3 * 4 is equal to', 3 * 4)\n",
    "print('2 to the third power, 2**3, is equal to', 2**3)\n",
    "print()\n",
    "print('5 divided by 3 is equal to', 5/3)\n",
    "print('5 divided by 3 is equal to ', 5//3, 'with a remainder of', 5%3)"
   ]
  },
  {
   "cell_type": "code",
   "execution_count": null,
   "metadata": {
    "deletable": false,
    "editable": false
   },
   "outputs": [],
   "source": [
    "# real world application of the modulus operator\n",
    "print('125 minutes is equal to', 125 // 60, 'hours and', 125 % 60, 'minutes')"
   ]
  },
  {
   "cell_type": "markdown",
   "metadata": {
    "deletable": false,
    "editable": false
   },
   "source": [
    "__Exercise:__ Prompt the user to enter an amount of time in minutes. Then output the number of hours and minutes. For example, if the user enters 125, your code should output 2 hours and 5 minutes."
   ]
  },
  {
   "cell_type": "code",
   "execution_count": null,
   "metadata": {},
   "outputs": [],
   "source": []
  },
  {
   "cell_type": "markdown",
   "metadata": {
    "deletable": false,
    "editable": false
   },
   "source": [
    "Python follows the standard order of operations -- Remember PEMDAS? Expressions are evaluated in the following order:\n",
    "\n",
    "1. *parentheses* \n",
    "1. *exponents*\n",
    "1. *multiplication* and *division*, from left to right\n",
    "1. *addition and subtraction*, from left to right"
   ]
  },
  {
   "cell_type": "code",
   "execution_count": null,
   "metadata": {
    "deletable": false,
    "editable": false
   },
   "outputs": [],
   "source": [
    "5 + 3 * 2 - 1    # this is evaluated as 5 + (3 * 2) - 1"
   ]
  },
  {
   "cell_type": "markdown",
   "metadata": {
    "deletable": false,
    "editable": false
   },
   "source": [
    "### Algorithm Example\n",
    "\n",
    "When we write code, we usually start by writing an algorithm, and then writing code for each step of the algorithm. If we cannot write code for a single step, we break that step down into multiple parts.\n",
    "\n",
    "I want to determine who is older, Joe or Donna.\n",
    "\n",
    "1. Get Joe's age (store in *age1*)\n",
    "2. Get Donna's age (store in *age2*)\n",
    "3. If *age1* > *age2* :\n",
    "\n",
    "        Output that Joe is older        \n",
    "   Otherwise:\n",
    "   \n",
    "       Output that Donna is older"
   ]
  },
  {
   "cell_type": "code",
   "execution_count": null,
   "metadata": {
    "deletable": false,
    "editable": false
   },
   "outputs": [],
   "source": [
    "#1. Get Joe's age\n",
    "age1 = int(input(\"Enter Joe's age: \"))\n",
    "\n",
    "#2. Get Donna's age\n",
    "age2 = int(input(\"Enter Donna's age: \"))\n",
    "print()\n",
    "\n",
    "#3 If age1 > age 2\n",
    "if age1 > age2:\n",
    "    # Output that Joe is older\n",
    "    print('Joe is older')\n",
    "# Otherwise\n",
    "else :\n",
    "    #Output that Donna is older\n",
    "    print('Donna is older')"
   ]
  },
  {
   "cell_type": "markdown",
   "metadata": {
    "deletable": false,
    "editable": false
   },
   "source": [
    "Suppose for step (3) above we simply said:\n",
    "\n",
    "3. Output the person who is older\n",
    "\n",
    "\n",
    "This is trivial for humans to understand, but not for a computer (and maybe not for a 5 year old). We need to break this step down into\n",
    "\n",
    "3. If *age1* > *age2* :\n",
    "\n",
    "        Output that Joe is older        \n",
    "\n",
    "   Otherwise:\n",
    "\n",
    "        Output that Donna is older\n",
    "\n",
    "\n",
    "    "
   ]
  },
  {
   "cell_type": "code",
   "execution_count": null,
   "metadata": {},
   "outputs": [],
   "source": []
  }
 ],
 "metadata": {
  "kernelspec": {
   "display_name": "Python 3 (ipykernel)",
   "language": "python",
   "name": "python3"
  },
  "language_info": {
   "codemirror_mode": {
    "name": "ipython",
    "version": 3
   },
   "file_extension": ".py",
   "mimetype": "text/x-python",
   "name": "python",
   "nbconvert_exporter": "python",
   "pygments_lexer": "ipython3",
   "version": "3.10.8"
  }
 },
 "nbformat": 4,
 "nbformat_minor": 2
}
