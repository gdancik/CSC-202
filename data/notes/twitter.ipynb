{
 "cells": [
  {
   "cell_type": "markdown",
   "metadata": {
    "deletable": false,
    "editable": false
   },
   "source": [
    "# Accessing Twitter with Python/Tweepy\n",
    "\n",
    "*Tweepy* (https://www.tweepy.org/) is a Python package for accessing Twitter's API.\n",
    "\n",
    "In order to use this Notebook, you must set up your *credentials* file as described previously. The file *credentials.py* must be in the same directory as this Notebook."
   ]
  },
  {
   "cell_type": "code",
   "execution_count": null,
   "metadata": {
    "deletable": false,
    "editable": false
   },
   "outputs": [],
   "source": [
    "import tweepy\n",
    "import credentials\n",
    "\n",
    "client = tweepy.client.Client(bearer_token = credentials.BEARER_TOKEN, consumer_key = credentials.API_KEY, consumer_secret = credentials.API_KEY_SECRET)"
   ]
  },
  {
   "cell_type": "markdown",
   "metadata": {
    "deletable": false,
    "editable": false
   },
   "source": [
    "### Search recent tweets\n",
    "\n",
    "The *search_recent_tweets* method will retrieve a sample of tweets from the last 7 days. Let's get recent English language tweets mentioning \"spring break\". By default, 10 tweets are returned. Note that you are limited to retreiving 500,000 tweets a month. Note also that filters are embedded in the search string. To generate an advanced search string, you can use https://twitter.com/search-advanced."
   ]
  },
  {
   "cell_type": "code",
   "execution_count": null,
   "metadata": {
    "deletable": false,
    "editable": false
   },
   "outputs": [],
   "source": [
    "results = client.search_recent_tweets('spring break lang:en')\n",
    "results"
   ]
  },
  {
   "cell_type": "markdown",
   "metadata": {
    "deletable": false,
    "editable": false
   },
   "source": [
    "### View the tweets\n",
    "\n",
    "The actual results are stored in *results.data*, which contains a *list* of results. Information about each tweet can be accessed using the dot (.) operator. Use *tweet.text* to get the text of each tweet."
   ]
  },
  {
   "cell_type": "code",
   "execution_count": null,
   "metadata": {
    "deletable": false,
    "editable": false
   },
   "outputs": [],
   "source": [
    "for tweet in results.data :\n",
    "    print(tweet.text, '\\n')"
   ]
  },
  {
   "cell_type": "markdown",
   "metadata": {
    "deletable": false,
    "editable": false
   },
   "source": [
    "### Default tweet information\n",
    "\n",
    "By default each tweet has an *id*, which uniquely identifies it, and its *text*."
   ]
  },
  {
   "cell_type": "code",
   "execution_count": null,
   "metadata": {
    "deletable": false,
    "editable": false
   },
   "outputs": [],
   "source": [
    "tweet1 = results.data[0]\n",
    "tweet1"
   ]
  },
  {
   "cell_type": "code",
   "execution_count": null,
   "metadata": {
    "deletable": false,
    "editable": false
   },
   "outputs": [],
   "source": [
    "tweet1.id"
   ]
  },
  {
   "cell_type": "markdown",
   "metadata": {
    "deletable": false,
    "editable": false
   },
   "source": [
    "We can look at the tweet on Twitter by specifying its id."
   ]
  },
  {
   "cell_type": "code",
   "execution_count": null,
   "metadata": {
    "deletable": false,
    "editable": false
   },
   "outputs": [],
   "source": [
    "print('https://twitter.com/i/web/status/', tweet1.id, sep = '')"
   ]
  },
  {
   "cell_type": "markdown",
   "metadata": {
    "deletable": false,
    "editable": false
   },
   "source": [
    "Note that this tweet does not have additional information (such as the author id)"
   ]
  },
  {
   "cell_type": "code",
   "execution_count": null,
   "metadata": {
    "deletable": false,
    "editable": false
   },
   "outputs": [],
   "source": [
    "tweet1.author_id"
   ]
  },
  {
   "cell_type": "markdown",
   "metadata": {
    "deletable": false,
    "editable": false
   },
   "source": [
    "### Twitter objects\n",
    "\n",
    "When calling a function that uses the Twitter API, a specific Twitter object will be returned. For this class we will focus on two objects, for *Tweets* and *Users*. \n",
    "\n",
    "https://developer.twitter.com/en/docs/twitter-api/data-dictionary/introduction\n",
    "\n",
    "The function *client.search_recent_tweets* returns a *Tweet* object. Each object includes different *fields* that can be returned. In the case of a *Tweet* object, the default fields are the *id* and *text* only, as seen above, and documented here: https://developer.twitter.com/en/docs/twitter-api/data-dictionary/object-model/tweet\n"
   ]
  },
  {
   "cell_type": "markdown",
   "metadata": {
    "deletable": false,
    "editable": false
   },
   "source": [
    "### Getting additional information using *fields*\n",
    "\n",
    "We can retreive additional data by setting various *fields* arguments. The argument can be set to a string or a list of strings. Again we will focus on two types:\n",
    "\n",
    "- *tweet_fields*: additional information about the tweet\n",
    "    - https://developer.twitter.com/en/docs/twitter-api/data-dictionary/object-model/tweet\n",
    "- *user_fields*: additional information about the user\n",
    "    - https://developer.twitter.com/en/docs/twitter-api/data-dictionary/object-model/user\n",
    "\n",
    "Below, we get the public_metrics (retweets, replies, likes, and quotes)."
   ]
  },
  {
   "cell_type": "code",
   "execution_count": null,
   "metadata": {
    "deletable": false,
    "editable": false
   },
   "outputs": [],
   "source": [
    "results = client.search_recent_tweets('spring break lang:en', \n",
    "                                      tweet_fields = 'public_metrics')\n",
    "tweet1 = results.data[0]"
   ]
  },
  {
   "cell_type": "code",
   "execution_count": null,
   "metadata": {
    "deletable": false,
    "editable": false
   },
   "outputs": [],
   "source": [
    "tweet1.public_metrics"
   ]
  },
  {
   "cell_type": "markdown",
   "metadata": {
    "deletable": false,
    "editable": false
   },
   "source": [
    "### Getting additional information using *expansions*\n",
    "\n",
    "If we want to retreive fields that belong to an object other than the one returned, then we need to use the *expansions* argument. Available expansions are listed here: https://developer.twitter.com/en/docs/twitter-api/expansions\n",
    "\n",
    "By default, the default fields for the expansion are returned. In the example below, we set the *expansions* to 'author_id', which returns a *user* object for each tweet. The default fields of the user object are the *id*, *name*, and *username*."
   ]
  },
  {
   "cell_type": "code",
   "execution_count": null,
   "metadata": {
    "deletable": false,
    "editable": false
   },
   "outputs": [],
   "source": [
    "results = client.search_recent_tweets('spring break lang:en', expansions = 'author_id')\n",
    "tweet1 = results.data[0]"
   ]
  },
  {
   "cell_type": "markdown",
   "metadata": {
    "deletable": false,
    "editable": false
   },
   "source": [
    "We now have the author id for each tweet."
   ]
  },
  {
   "cell_type": "code",
   "execution_count": null,
   "metadata": {
    "deletable": false,
    "editable": false
   },
   "outputs": [],
   "source": [
    "print('https://twitter.com/i/web/status/', tweet1.id, sep = '')"
   ]
  },
  {
   "cell_type": "code",
   "execution_count": null,
   "metadata": {
    "deletable": false,
    "editable": false
   },
   "outputs": [],
   "source": [
    "tweet1.author_id"
   ]
  },
  {
   "cell_type": "markdown",
   "metadata": {
    "deletable": false,
    "editable": false
   },
   "source": [
    "The information retrieved for the expansion can be found in *results.includes*, which is a dictionary that in this case contains the *user* information requested by the *expansion*. Note that only the *default* user information is returned (*id*, *name*, and *username*). If we wanted additional information, we could specify this using the *user_fields* argument."
   ]
  },
  {
   "cell_type": "code",
   "execution_count": null,
   "metadata": {
    "deletable": false,
    "editable": false
   },
   "outputs": [],
   "source": [
    "results.includes['users']"
   ]
  },
  {
   "cell_type": "markdown",
   "metadata": {
    "deletable": false,
    "editable": false
   },
   "source": [
    "The user information will be linked to each tweet by the user id, but in general this information may not exist for each tweet. Therefore, let's create a dictionary so that we can look up a user. We do this using *dictionary comprehension*."
   ]
  },
  {
   "cell_type": "code",
   "execution_count": null,
   "metadata": {
    "deletable": false,
    "editable": false
   },
   "outputs": [],
   "source": [
    "users_dictionary = { u.id:u for u in results.includes['users']}"
   ]
  },
  {
   "cell_type": "markdown",
   "metadata": {
    "deletable": false,
    "editable": false
   },
   "source": [
    "Now we can look up a user in the dictionary by its id"
   ]
  },
  {
   "cell_type": "code",
   "execution_count": null,
   "metadata": {
    "deletable": false,
    "editable": false
   },
   "outputs": [],
   "source": [
    "tweet1_user = users_dictionary[tweet1.author_id]\n",
    "tweet1_user"
   ]
  },
  {
   "cell_type": "code",
   "execution_count": null,
   "metadata": {
    "deletable": false,
    "editable": false
   },
   "outputs": [],
   "source": [
    "print(tweet1_user.name, '(@', tweet1_user.username, '): ', tweet1.text, sep ='')"
   ]
  },
  {
   "cell_type": "markdown",
   "metadata": {},
   "source": [
    "Let's now include the user's profile *description*, along with the default *user* information the *author_id* expansion gives us for each tweet."
   ]
  },
  {
   "cell_type": "code",
   "execution_count": null,
   "metadata": {
    "deletable": false,
    "editable": false
   },
   "outputs": [],
   "source": [
    "results = client.search_recent_tweets('spring break lang:en', expansions = 'author_id', user_fields = 'description')\n",
    "users_dictionary = { u.id:u for u in results.includes['users']}"
   ]
  },
  {
   "cell_type": "code",
   "execution_count": null,
   "metadata": {
    "deletable": false,
    "editable": false
   },
   "outputs": [],
   "source": [
    "tweet1 = results.data[0]\n",
    "user1 = users_dictionary[tweet1.author_id]\n",
    "\n",
    "print('User:', user1.username)\n",
    "print('Description:', user1.description)\n",
    "print()\n",
    "print('Tweet:', tweet1.text)"
   ]
  },
  {
   "cell_type": "markdown",
   "metadata": {
    "deletable": false,
    "editable": false
   },
   "source": [
    "### Getting user information\n",
    "\n",
    "To get user information directly, we can use one of the following: \n",
    "- *client.get_user* will get information for one user based on their *userName* or by *id*.\n",
    "- *client.get_users* will get information for multiple users based on their *usernames* or *ids*.\n",
    "\n",
    "The concepts involving additional *fields* and *expansions* discussed above apply here. In this case, the only available expansion is for a *pinned_tweet_id*, which will be the ID of the user's pinned tweet, if applicable."
   ]
  },
  {
   "cell_type": "code",
   "execution_count": null,
   "metadata": {
    "deletable": false,
    "editable": false
   },
   "outputs": [],
   "source": [
    "user = client.get_user(id = results.data[0].author_id)\n",
    "user"
   ]
  },
  {
   "cell_type": "markdown",
   "metadata": {
    "deletable": false,
    "editable": false
   },
   "source": [
    "By default, we get the user's id, name, and username:"
   ]
  },
  {
   "cell_type": "code",
   "execution_count": null,
   "metadata": {
    "deletable": false,
    "editable": false
   },
   "outputs": [],
   "source": [
    "print('User name:', user.data.username)\n",
    "print('Name:', user.data.name)\n",
    "print('User id:', user.data.id)\n",
    "print('Link: https://twitter.com/' + user.data.username)"
   ]
  },
  {
   "cell_type": "markdown",
   "metadata": {},
   "source": [
    "### Get tweets from a user's timeline\n",
    "\n",
    "To get tweets from a user's timeline, we need the user's id. Then we can use *client.get_users_tweets* to get the 10 most recent tweets by default."
   ]
  },
  {
   "cell_type": "code",
   "execution_count": null,
   "metadata": {
    "deletable": false,
    "editable": false
   },
   "outputs": [],
   "source": [
    "eastern = client.get_user(username='EasternCTStateU')\n",
    "eastern.data.id"
   ]
  },
  {
   "cell_type": "code",
   "execution_count": null,
   "metadata": {
    "deletable": false,
    "editable": false
   },
   "outputs": [],
   "source": [
    "eastern_tweets = client.get_users_tweets(eastern.data.id)"
   ]
  },
  {
   "cell_type": "code",
   "execution_count": null,
   "metadata": {
    "deletable": false,
    "editable": false
   },
   "outputs": [],
   "source": [
    "for i, tweet in enumerate(eastern_tweets.data) :\n",
    "    print(i+1, ': ', tweet.text, sep = '')\n",
    "    print()"
   ]
  },
  {
   "cell_type": "markdown",
   "metadata": {
    "deletable": false,
    "editable": false
   },
   "source": [
    "### Getting more results,  and don't forget your monthly tweet cap\n",
    "\n",
    "As mentioned above, you are limited to retreiving 500,000 tweets a month. \n",
    "\n",
    "To see this monthly Twitter cap usage, log on to your developer account, at https://developer.twitter.com, and click on the 'Developer Portal' link on the top right. \n",
    "\n",
    "This page will look something like this: https://gdancik.github.io/CSC-202/data/notes/twitter.png.\n",
    "\n",
    "However, there are no limits to how much user information can be retrieved.\n",
    "\n",
    "Because of the monthly cap, the code above uses the default settings to return 10 tweets at once. However, this can be modified by setting *max_results*, which for tweets should be a number between 10 and 100. It is also possible to get multiple *pages* of results. If more than 100 results are desired, you will need to use *tweepy.Paginator* (see https://docs.tweepy.org/en/latest/v2_pagination.html for examples).\n"
   ]
  },
  {
   "cell_type": "code",
   "execution_count": null,
   "metadata": {},
   "outputs": [],
   "source": []
  }
 ],
 "metadata": {
  "kernelspec": {
   "display_name": "Python 3 (ipykernel)",
   "language": "python",
   "name": "python3"
  },
  "language_info": {
   "codemirror_mode": {
    "name": "ipython",
    "version": 3
   },
   "file_extension": ".py",
   "mimetype": "text/x-python",
   "name": "python",
   "nbconvert_exporter": "python",
   "pygments_lexer": "ipython3",
   "version": "3.9.7"
  }
 },
 "nbformat": 4,
 "nbformat_minor": 2
}
