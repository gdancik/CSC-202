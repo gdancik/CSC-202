{
 "cells": [
  {
   "cell_type": "markdown",
   "metadata": {
    "deletable": false,
    "editable": false
   },
   "source": [
    "# Mining Twitter Data\n",
    "\n",
    "## Configuration"
   ]
  },
  {
   "cell_type": "markdown",
   "metadata": {
    "deletable": false,
    "editable": false
   },
   "source": [
    "In order to use Twitter's API and Tweepy, we need to authenticate our Twitter application and obtain an access token for our user account - see details in the *twitter_test* Notebook. The code below requires that your credentials are in the file *credentials.py*, and that this file be located in the same directory as this Notebook. \n",
    "\n",
    "If you do not have a Twitter Developer account, you still need the *credentials.py* file, with its default values, in the same directory as this Notebook. In addition, you will need the files *user.txt*, *results.txt*, *trends_available.txt*, and *trends_results.txt* available from our course's homepage.\n",
    "\n",
    "\n",
    "Python cells may contain one of two important comments:\n",
    "- *DEVELOPER ACCOUNT REQUIRED*: A developer account and a valid *credentials.py* file are required to run this cell, otherwise errors will be produced.\n",
    "- *BACKUP FOR STUDENTS WITHOUT A DEVELOPER ACCOUNT*: This code should be run by students without a developer account or students whose *credentials.py* file is not valid.\n",
    "\n",
    "\n",
    "The code below sets up our API to wait for rate limits and to notify us if it is waiting. Twitter rate limits can be found here: https://developer.twitter.com/en/docs/basics/rate-limits.html"
   ]
  },
  {
   "cell_type": "code",
   "execution_count": null,
   "metadata": {
    "deletable": false,
    "editable": false
   },
   "outputs": [],
   "source": [
    "import tweepy\n",
    "import credentials\n",
    "\n",
    "auth = tweepy.OAuthHandler(credentials.CONSUMER_KEY, credentials.CONSUMER_SECRET)\n",
    "auth.set_access_token(credentials.ACCESS_TOKEN, credentials.ACCESS_TOKEN_SECRET)\n",
    "\n",
    "# create an API for accessing twitter, which will wait for rate limits to reset when\n",
    "# reached and will notify the user if that is the case\n",
    "api = tweepy.API(auth, wait_on_rate_limit=True, wait_on_rate_limit_notify=True)"
   ]
  },
  {
   "cell_type": "markdown",
   "metadata": {
    "deletable": false,
    "editable": false
   },
   "source": [
    "## Get user information\n",
    "\n",
    "We can get user information using *api.get_user()*, which returns a *tweepy.models.User* object."
   ]
  },
  {
   "cell_type": "code",
   "execution_count": null,
   "metadata": {},
   "outputs": [],
   "source": [
    "# DEVELOPER ACCOUNT REQUIRED\n",
    "\n",
    "# Get the User object for the user 'EasternCTStateU' \n",
    "user = api.get_user('EasternCTStateU')\n",
    "type(user)"
   ]
  },
  {
   "cell_type": "code",
   "execution_count": null,
   "metadata": {
    "deletable": false,
    "editable": false
   },
   "outputs": [],
   "source": [
    "# BACKUP FOR STUDENTS WITHOUT A DEVELOPER ACCOUNT\n",
    "\n",
    "import pickle\n",
    "\n",
    "# used to load previously saved Twitter data\n",
    "def loadData(file) :\n",
    "    with open(file, 'rb') as infile :\n",
    "         return pickle.load(infile)\n",
    "\n",
    "if credentials.CONSUMER_KEY == 'CONSUMER_KEY' :\n",
    "    user = loadData('user.txt')\n",
    "type(user)"
   ]
  },
  {
   "cell_type": "markdown",
   "metadata": {
    "deletable": false,
    "editable": false
   },
   "source": [
    "### JSON format\n",
    "\n",
    "Data transferred across the internet is typically stored in JSON (Javascript Object Notation) format, which has a format similar to that of a Python dictionary. \n",
    "\n",
    "We can see this by running the code below and copying the output into the JSON viewer here:\n",
    "http://jsonviewer.stack.hu/ \n",
    "\n",
    "We do this for demonstration purposes only. *Tweepy* will convert the JSON information into a *model* class as shown below."
   ]
  },
  {
   "cell_type": "code",
   "execution_count": null,
   "metadata": {
    "deletable": false,
    "editable": false
   },
   "outputs": [],
   "source": [
    "import json\n",
    "print(json.dumps(user._json))"
   ]
  },
  {
   "cell_type": "markdown",
   "metadata": {
    "deletable": false,
    "editable": false
   },
   "source": [
    "### Tweepy model class\n",
    "Most data returned by *tweepy* will be stored in a Tweepy model class object. Information (properties) of these objects can be accessed using the dot (.) operator. For example, a *Tweepy.models.User* object stored in the variable *user* contains the following properties:\n",
    "\n",
    "- *user.screen_name*: the user's screen name\n",
    "- *user.followers_count*: the user's followers count\n",
    "- *user.friends()*: a method that returns a list of the user's friends (up to 20 per page)\n",
    "- *user.location*: the location from the user's profile\n"
   ]
  },
  {
   "cell_type": "code",
   "execution_count": null,
   "metadata": {
    "deletable": false,
    "editable": false
   },
   "outputs": [],
   "source": [
    "# display some information about the user\n",
    "print(\"Twitter user:\", user.screen_name)\n",
    "print(\"Location:\", user.location)\n",
    "print(\"Number of followers:\", user.followers_count)"
   ]
  },
  {
   "cell_type": "code",
   "execution_count": null,
   "metadata": {
    "deletable": false,
    "editable": false
   },
   "outputs": [],
   "source": [
    "# Display the first 10 friends (DEVELOPER ACCOUNT REQUIRED)\n",
    "print(\"The user's first 10 friends are:\")\n",
    "for friend in user.friends()[:10]:\n",
    "   location = friend.location\n",
    "   if location == '' :\n",
    "        location = '?'\n",
    "   print('\\t',friend.screen_name, 'from', location)"
   ]
  },
  {
   "cell_type": "markdown",
   "metadata": {
    "deletable": false,
    "editable": false
   },
   "source": [
    "## Searching twitter\n",
    "\n",
    "We can search twitter using the *search* function, with some parameters described below:\n",
    "\n",
    "- _q_: the search query; to retreive a sample of all tweets, set this value to '\\*'\n",
    "- *tweet_mode*: if 'extended', returns full tweets that are more than 140 characters\n",
    "- *result_type*: either 'recent', 'popular', or 'mixed' (the default)\n",
    "- *count*: the number of tweets per page, up to 100 (default is 15)\n",
    "- *lang*: restrict tweets by language; use 'en' for english. Default is to have no restriction.\n",
    "\n",
    "Searches can also be restricted by location; for more details see *API.search* at http://docs.tweepy.org/en/v3.8.0/api.html.\n",
    "\n",
    "\n",
    "The *api.search* function will return a *list* of *tweepy.models.Status* objects."
   ]
  },
  {
   "cell_type": "code",
   "execution_count": null,
   "metadata": {},
   "outputs": [],
   "source": [
    "query = 'Connecticut'"
   ]
  },
  {
   "cell_type": "code",
   "execution_count": null,
   "metadata": {
    "deletable": false,
    "editable": false
   },
   "outputs": [],
   "source": [
    "# DEVELOPER ACCOUNT REQUIRED\n",
    "results = api.search(q = query,tweet_mode = 'extended', lang = 'en')"
   ]
  },
  {
   "cell_type": "code",
   "execution_count": null,
   "metadata": {
    "deletable": false,
    "editable": false
   },
   "outputs": [],
   "source": [
    "# BACKUP FOR STUDENTS WITHOUT A DEVELOPER ACCOUNT\n",
    "if credentials.CONSUMER_KEY == 'CONSUMER_KEY' :\n",
    "    results = loadData('results.txt')"
   ]
  },
  {
   "cell_type": "code",
   "execution_count": null,
   "metadata": {
    "deletable": false,
    "editable": false
   },
   "outputs": [],
   "source": [
    "# api.search() returns a list, so let's look at the first tweet in the list\n",
    "tweet1 = results[0]\n",
    "type(tweet1)"
   ]
  },
  {
   "cell_type": "markdown",
   "metadata": {
    "deletable": false,
    "editable": false
   },
   "source": [
    "As seen before, Twitter uses the JSON format, which is parsed by *Tweepy*. For demonstration purposes, copy and paste the output below into http://jsonviewer.stack.hu/ to view the JSON data."
   ]
  },
  {
   "cell_type": "code",
   "execution_count": null,
   "metadata": {
    "deletable": false,
    "editable": false
   },
   "outputs": [],
   "source": [
    "print(json.dumps(tweet1._json))"
   ]
  },
  {
   "cell_type": "markdown",
   "metadata": {
    "deletable": false,
    "editable": false
   },
   "source": [
    "### Extracting information from tweets\n",
    "Individual tweets are stored as a *tweepy.models.Status* object, so its properties can be accessed using the dot (.) operator. A full list of properties can be seen in the *Tweet Data Dictionary* from the following link:\n",
    "https://developer.twitter.com/en/docs/tweets/data-dictionary/overview/tweet-object.\n",
    "\n",
    "We will focus on the following properties:\n",
    "- *full_text*: the full text of the tweet (only available if *tweet_mode* is 'extended'); otherwise text will be stored in *text*\n",
    "- *retweet_count*: the number of times the tweet has been retweeted\n",
    "- *retweeted*: True if the tweet was retweeted; otherwise False\n",
    "- *user*: a *Tweepy.models.User* object for the user who tweeted\n",
    "- *lang*: the (machine-detected) language of the tweet\n",
    "- *id*: the unique identifier for the tweet\n",
    "\n",
    "Try to look at the full text and retweet_count of the tweet stored in *tweet1* in the cell below."
   ]
  },
  {
   "cell_type": "code",
   "execution_count": null,
   "metadata": {},
   "outputs": [],
   "source": [
    "tweet1.full_text"
   ]
  },
  {
   "cell_type": "markdown",
   "metadata": {
    "deletable": false,
    "editable": false
   },
   "source": [
    "Since the tweets returned from *api.search* are stored in a list, we can iterate through the list and output information for each tweet."
   ]
  },
  {
   "cell_type": "code",
   "execution_count": null,
   "metadata": {
    "deletable": false,
    "editable": false
   },
   "outputs": [],
   "source": [
    "# output each tweet, including the user name, retweet information, and a link to view the tweet\n",
    "# this code uses 'hasattr' to check whether the tweet has the 'retweeted_status' property, which\n",
    "# includes the original tweet\n",
    "for r in results :\n",
    "    print(r.user.screen_name, ': ', r.full_text, sep = '')\n",
    "    if (r.retweet_count > 0) :\n",
    "        if hasattr(r, 'retweeted_status') :\n",
    "            print('retweeted from: ', r.retweeted_status.user.screen_name)\n",
    "        print('retweet count: ', r.retweet_count)\n",
    "    print('link: https://twitter.com/', r.user.screen_name, '/status/', r.id, sep = '')\n",
    "    print()"
   ]
  },
  {
   "cell_type": "markdown",
   "metadata": {
    "deletable": false,
    "editable": false
   },
   "source": [
    "## Trending topics\n",
    "\n",
    "The Twitter API and *Tweepy* provide several methods for retreiving trending topics.\n",
    "\n",
    "### Get the available trends\n",
    "\n",
    "The API function *trends_available()* will return a list of locations that Twitter has trending topic information for. Information for each location is stored in a *dictionary*, so the result is a list of dictionaries. A location is identified by its WOEID (a Yahoo! Where On Earth ID), where a WOEID of 1 indicates 'worldwide'."
   ]
  },
  {
   "cell_type": "code",
   "execution_count": null,
   "metadata": {
    "deletable": false,
    "editable": false
   },
   "outputs": [],
   "source": [
    "## DEVELOPER ACCOUNT REQUIRED\n",
    "trends_available = api.trends_available()"
   ]
  },
  {
   "cell_type": "code",
   "execution_count": null,
   "metadata": {
    "deletable": false,
    "editable": false
   },
   "outputs": [],
   "source": [
    "# BACKUP FOR STUDENTS WITHOUT A DEVELOPER ACCOUNT\n",
    "if credentials.CONSUMER_KEY == 'CONSUMER_KEY' :\n",
    "    trends_available = loadData('trends_available.txt')"
   ]
  },
  {
   "cell_type": "code",
   "execution_count": null,
   "metadata": {
    "deletable": false,
    "editable": false
   },
   "outputs": [],
   "source": [
    "# look at first trend, which is a dictionary\n",
    "trends_available[0]"
   ]
  },
  {
   "cell_type": "code",
   "execution_count": null,
   "metadata": {
    "deletable": false,
    "editable": false
   },
   "outputs": [],
   "source": [
    "print('Number of trend locations: ', len(trends_available))\n",
    "print()\n",
    "print('First 5 trend locations')\n",
    "for t in trends_available[:5]: \n",
    "    print(t['name'], ', woeid = ', t['woeid'], sep ='')"
   ]
  },
  {
   "cell_type": "markdown",
   "metadata": {
    "deletable": false,
    "editable": false
   },
   "source": [
    "### Get trends for a specific location\n",
    "\n",
    "We can get the top 50 trends for a specific location using the *api.trends_place* method and specifying the woeid of the location of interest."
   ]
  },
  {
   "cell_type": "code",
   "execution_count": null,
   "metadata": {
    "deletable": false,
    "editable": false
   },
   "outputs": [],
   "source": [
    "## DEVELOPER ACCOUNT REQUIRED\n",
    "\n",
    "# get worldwide trends (a WOEID of 1 corresonds to 'worldwide')\n",
    "trends_results = api.trends_place(id = 1)"
   ]
  },
  {
   "cell_type": "code",
   "execution_count": null,
   "metadata": {
    "deletable": false,
    "editable": false
   },
   "outputs": [],
   "source": [
    "# BACKUP FOR STUDENTS WITHOUT A DEVELOPER ACCOUNT\n",
    "if credentials.CONSUMER_KEY == 'CONSUMER_KEY' :\n",
    "    trends_results = loadData('trends_results.txt')"
   ]
  },
  {
   "cell_type": "markdown",
   "metadata": {
    "deletable": false,
    "editable": false
   },
   "source": [
    "The *trends_results* object is a list that contains a dictionary, where the *key* is *'trends'* and the *value* is a list of *trends* that are stored as dictionaries.\n",
    "\n",
    "Each *trend* is a dictionary containing the following:\n",
    "- *name*: the name of the trend\n",
    "- *url*: the url to search the trend\n",
    "- *tweet_volume*: the number of tweets, or None if not available\n",
    "- *query*: a query that can be used in the *api.search* method"
   ]
  },
  {
   "cell_type": "code",
   "execution_count": null,
   "metadata": {
    "deletable": false,
    "editable": false
   },
   "outputs": [],
   "source": [
    "# extract the list of trends\n",
    "trends = trends_results[0]['trends']\n",
    "\n",
    "# look at the first trend, which is stored as a dictionary\n",
    "trends[0]"
   ]
  },
  {
   "cell_type": "markdown",
   "metadata": {},
   "source": [
    "The *print_trends* function below prints information about each trend *t*."
   ]
  },
  {
   "cell_type": "code",
   "execution_count": null,
   "metadata": {
    "deletable": false,
    "editable": false
   },
   "outputs": [],
   "source": [
    "# print Trend name and volume\n",
    "def print_trend(t) :\n",
    "    num = t['tweet_volume']\n",
    "    if num is None :\n",
    "        num = '?'\n",
    "    print(t['name'], 'has', num, 'tweets')"
   ]
  },
  {
   "cell_type": "code",
   "execution_count": null,
   "metadata": {
    "deletable": false,
    "editable": false
   },
   "outputs": [],
   "source": [
    "# print information for each trend\n",
    "for t in trends :\n",
    "    print_trend(t)"
   ]
  },
  {
   "cell_type": "markdown",
   "metadata": {
    "deletable": false,
    "editable": false
   },
   "source": [
    "### Get trends *closest* to a specific location\n",
    "\n",
    "The *api.trends_closest* function allows us to look at trends close to a specific location (specified by its latitude and longitude). Let's look at the trends closest to Eastern, which has lattitude of 41.722 and longitude of -72.22: https://goo.gl/maps/nZWRwdCEuQGFiXQH6\n",
    "\n",
    "This function returns a list of locations, similar to *trends_available()*."
   ]
  },
  {
   "cell_type": "code",
   "execution_count": null,
   "metadata": {
    "deletable": false,
    "editable": false
   },
   "outputs": [],
   "source": [
    "## DEVELOPER ACCOUNT REQUIRED for the rest of the Notebook\n",
    "trends_closest = api.trends_closest(lat = 41.722, long = -72.22)"
   ]
  },
  {
   "cell_type": "code",
   "execution_count": null,
   "metadata": {
    "deletable": false,
    "editable": false
   },
   "outputs": [],
   "source": [
    "trends_closest"
   ]
  },
  {
   "cell_type": "markdown",
   "metadata": {
    "deletable": false,
    "editable": false
   },
   "source": [
    "### Display a list of trending topics closest to Eastern\n",
    "\n",
    "Now that we found the closest trend, we can extract the WOEID for the location of this trend, and use the *trends_place* method to get a list of trending topics."
   ]
  },
  {
   "cell_type": "code",
   "execution_count": null,
   "metadata": {
    "deletable": false,
    "editable": false
   },
   "outputs": [],
   "source": [
    "print('Trending topics for', trends_closest[0]['name'], ':')\n",
    "print()\n",
    "trends_results = api.trends_place(id = trends_closest[0]['woeid']) \n",
    "trends = trends_results[0]['trends']\n",
    "for t in trends:\n",
    "    print_trend(t)"
   ]
  },
  {
   "cell_type": "code",
   "execution_count": null,
   "metadata": {},
   "outputs": [],
   "source": []
  }
 ],
 "metadata": {
  "kernelspec": {
   "display_name": "Python 3",
   "language": "python",
   "name": "python3"
  },
  "language_info": {
   "codemirror_mode": {
    "name": "ipython",
    "version": 3
   },
   "file_extension": ".py",
   "mimetype": "text/x-python",
   "name": "python",
   "nbconvert_exporter": "python",
   "pygments_lexer": "ipython3",
   "version": "3.8.3"
  }
 },
 "nbformat": 4,
 "nbformat_minor": 2
}
