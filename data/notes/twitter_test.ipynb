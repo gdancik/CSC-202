{
 "cells": [
  {
   "cell_type": "markdown",
   "metadata": {
    "deletable": false,
    "editable": false
   },
   "source": [
    "# Setting up a Twitter App\n",
    "\n",
    "Log on to http://developer.twitter.com and follow the instructions from the following site to create an App for this class: <br> https://iag.me/socialmedia/how-to-create-a-twitter-app-in-8-easy-steps/"
   ]
  },
  {
   "cell_type": "markdown",
   "metadata": {
    "deletable": false,
    "editable": false
   },
   "source": [
    "## Setting up your access tokens\n",
    "\n",
    "When creating an app you will generate keys and tokens that are used to provide authentication and authorization for your application to use the Twitter API. Copy and paste the following to the *credentials.py* file which needs to be in the the same directory as this notebook:\n",
    "\n",
    "- *Consumer API key*: an ID that identifies the client (in this case the client is your application)\n",
    "- *Consumer API secret key*: password that authenticates the client\n",
    "- *Access token*: defines the privileges of the client (with respect to accessing and using your account)\n",
    "- *Access token secret*: password to confirm that the access token is valid\n",
    "\n",
    "**Note:** The keys and tokens labeled *secret* are *passwords* and should not be shared with anyone. Otherwise a person could use your Twitter application and access Twitter using your account.\n"
   ]
  },
  {
   "cell_type": "code",
   "execution_count": null,
   "metadata": {
    "deletable": false,
    "editable": false
   },
   "outputs": [],
   "source": [
    "import tweepy\n",
    "import credentials\n",
    "\n",
    "auth = tweepy.OAuthHandler(credentials.CONSUMER_KEY, credentials.CONSUMER_SECRET)\n",
    "auth.set_access_token(credentials.ACCESS_TOKEN, credentials.ACCESS_TOKEN_SECRET)\n",
    "\n",
    "# create an API for accessing twitter, which will wait for rate limits to reset when\n",
    "# reached and will notify the user if that is the case\n",
    "api = tweepy.API(auth, wait_on_rate_limit=True, wait_on_rate_limit_notify=True)"
   ]
  },
  {
   "cell_type": "code",
   "execution_count": null,
   "metadata": {},
   "outputs": [],
   "source": [
    "# what do you want to search for on Twitter?\n",
    "qry = 'pizza robot'"
   ]
  },
  {
   "cell_type": "code",
   "execution_count": null,
   "metadata": {
    "deletable": false,
    "editable": false
   },
   "outputs": [],
   "source": [
    "results = api.search(qry,tweet_mode = 'extended', n = 10)"
   ]
  },
  {
   "cell_type": "code",
   "execution_count": null,
   "metadata": {
    "deletable": false,
    "editable": false
   },
   "outputs": [],
   "source": [
    "# output results\n",
    "for r in results :\n",
    "    print(r.user.screen_name, ': ', r.full_text, sep = '')\n",
    "    print()"
   ]
  },
  {
   "cell_type": "code",
   "execution_count": null,
   "metadata": {},
   "outputs": [],
   "source": []
  }
 ],
 "metadata": {
  "kernelspec": {
   "display_name": "Python 3",
   "language": "python",
   "name": "python3"
  },
  "language_info": {
   "codemirror_mode": {
    "name": "ipython",
    "version": 3
   },
   "file_extension": ".py",
   "mimetype": "text/x-python",
   "name": "python",
   "nbconvert_exporter": "python",
   "pygments_lexer": "ipython3",
   "version": "3.6.7"
  }
 },
 "nbformat": 4,
 "nbformat_minor": 2
}
